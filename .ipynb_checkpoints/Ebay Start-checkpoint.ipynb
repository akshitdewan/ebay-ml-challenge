{
 "cells": [
  {
   "cell_type": "code",
   "execution_count": 4,
   "metadata": {},
   "outputs": [
    {
     "data": {
      "text/html": [
       "<div>\n",
       "<style scoped>\n",
       "    .dataframe tbody tr th:only-of-type {\n",
       "        vertical-align: middle;\n",
       "    }\n",
       "\n",
       "    .dataframe tbody tr th {\n",
       "        vertical-align: top;\n",
       "    }\n",
       "\n",
       "    .dataframe thead th {\n",
       "        text-align: right;\n",
       "    }\n",
       "</style>\n",
       "<table border=\"1\" class=\"dataframe\">\n",
       "  <thead>\n",
       "    <tr style=\"text-align: right;\">\n",
       "      <th></th>\n",
       "      <th>Category</th>\n",
       "      <th>Main Link</th>\n",
       "      <th>All Links</th>\n",
       "      <th>Tags</th>\n",
       "    </tr>\n",
       "    <tr>\n",
       "      <th>ID</th>\n",
       "      <th></th>\n",
       "      <th></th>\n",
       "      <th></th>\n",
       "      <th></th>\n",
       "    </tr>\n",
       "  </thead>\n",
       "  <tbody>\n",
       "    <tr>\n",
       "      <th>0</th>\n",
       "      <td>2</td>\n",
       "      <td>https://i.ebayimg.com/00/s/MTYwMFgxMjAw/z/iYYA...</td>\n",
       "      <td>https://i.ebayimg.com/00/s/MTYwMFgxMjAw/z/iYYA...</td>\n",
       "      <td>(Brand:Shimano,US Shoe Size (Men's):4.5,Modifi...</td>\n",
       "    </tr>\n",
       "    <tr>\n",
       "      <th>1</th>\n",
       "      <td>2</td>\n",
       "      <td>https://i.ebayimg.com/00/s/MTA1OFgxMTM0/z/KPIA...</td>\n",
       "      <td>https://i.ebayimg.com/00/s/MTA1OFgxMTM0/z/KPIA...</td>\n",
       "      <td>(Color:Gray/White,Country/Region of Manufactur...</td>\n",
       "    </tr>\n",
       "    <tr>\n",
       "      <th>2</th>\n",
       "      <td>2</td>\n",
       "      <td>https://i.ebayimg.com/00/s/MTIwMFgxNjAw/z/flIA...</td>\n",
       "      <td>https://i.ebayimg.com/00/s/MTIwMFgxNjAw/z/flIA...</td>\n",
       "      <td>(Style:Cleats,Color:White Orange,US Shoe Size ...</td>\n",
       "    </tr>\n",
       "    <tr>\n",
       "      <th>3</th>\n",
       "      <td>2</td>\n",
       "      <td>http://i.ebayimg.com/00/s/ODAwWDEwNjc=/z/XHcAA...</td>\n",
       "      <td>http://i.ebayimg.com/00/s/ODAwWDEwNjc=/z/XHcAA...</td>\n",
       "      <td>(Width:Medium (D, M),US Size:9,Brand:VANS,Colo...</td>\n",
       "    </tr>\n",
       "    <tr>\n",
       "      <th>4</th>\n",
       "      <td>2</td>\n",
       "      <td>https://i.ebayimg.com/00/s/MTA2N1gxNjAw/z/scsA...</td>\n",
       "      <td>https://i.ebayimg.com/00/s/MTA2N1gxNjAw/z/scsA...</td>\n",
       "      <td>(US Shoe Size (Men's):10.5,Material:Enter item...</td>\n",
       "    </tr>\n",
       "    <tr>\n",
       "      <th>...</th>\n",
       "      <td>...</td>\n",
       "      <td>...</td>\n",
       "      <td>...</td>\n",
       "      <td>...</td>\n",
       "    </tr>\n",
       "    <tr>\n",
       "      <th>1006085</th>\n",
       "      <td>2</td>\n",
       "      <td>https://i.ebayimg.com/00/s/Njk5WDcyNQ==/z/zHMA...</td>\n",
       "      <td>https://i.ebayimg.com/00/s/Njk5WDcyNQ==/z/zHMA...</td>\n",
       "      <td>(Style:Crossfit,Shoe Height:Low Top,Modified I...</td>\n",
       "    </tr>\n",
       "    <tr>\n",
       "      <th>1006086</th>\n",
       "      <td>2</td>\n",
       "      <td>https://i.ebayimg.com/00/s/MTIwMFgxMjAw/z/0MMA...</td>\n",
       "      <td>https://i.ebayimg.com/00/s/MTIwMFgxMjAw/z/0MMA...</td>\n",
       "      <td>(Model:adidas Explosive Bounce,Product Line:ad...</td>\n",
       "    </tr>\n",
       "    <tr>\n",
       "      <th>1006087</th>\n",
       "      <td>2</td>\n",
       "      <td>https://i.ebayimg.com/00/s/MTE2M1gxNjAw/z/PSYA...</td>\n",
       "      <td>https://i.ebayimg.com/00/s/MTE2M1gxNjAw/z/PSYA...</td>\n",
       "      <td>(Style:Running, Cross Training,US Shoe Size (M...</td>\n",
       "    </tr>\n",
       "    <tr>\n",
       "      <th>1006088</th>\n",
       "      <td>2</td>\n",
       "      <td>https://i.ebayimg.com/00/s/MTYwMFgxNjAw/z/ra8A...</td>\n",
       "      <td>https://i.ebayimg.com/00/s/MTYwMFgxNjAw/z/ra8A...</td>\n",
       "      <td>(Brand:adidas,Pattern:Adidas Primeknit,Model:a...</td>\n",
       "    </tr>\n",
       "    <tr>\n",
       "      <th>1006089</th>\n",
       "      <td>2</td>\n",
       "      <td>https://d3d71ba2asa5oz.cloudfront.net/12005004...</td>\n",
       "      <td>https://d3d71ba2asa5oz.cloudfront.net/12005004...</td>\n",
       "      <td>(Color:Us-black/Steel-gum,MPN:CM9682-US--7 Chi...</td>\n",
       "    </tr>\n",
       "  </tbody>\n",
       "</table>\n",
       "<p>1002275 rows × 4 columns</p>\n",
       "</div>"
      ],
      "text/plain": [
       "         Category                                          Main Link  \\\n",
       "ID                                                                     \n",
       "0               2  https://i.ebayimg.com/00/s/MTYwMFgxMjAw/z/iYYA...   \n",
       "1               2  https://i.ebayimg.com/00/s/MTA1OFgxMTM0/z/KPIA...   \n",
       "2               2  https://i.ebayimg.com/00/s/MTIwMFgxNjAw/z/flIA...   \n",
       "3               2  http://i.ebayimg.com/00/s/ODAwWDEwNjc=/z/XHcAA...   \n",
       "4               2  https://i.ebayimg.com/00/s/MTA2N1gxNjAw/z/scsA...   \n",
       "...           ...                                                ...   \n",
       "1006085         2  https://i.ebayimg.com/00/s/Njk5WDcyNQ==/z/zHMA...   \n",
       "1006086         2  https://i.ebayimg.com/00/s/MTIwMFgxMjAw/z/0MMA...   \n",
       "1006087         2  https://i.ebayimg.com/00/s/MTE2M1gxNjAw/z/PSYA...   \n",
       "1006088         2  https://i.ebayimg.com/00/s/MTYwMFgxNjAw/z/ra8A...   \n",
       "1006089         2  https://d3d71ba2asa5oz.cloudfront.net/12005004...   \n",
       "\n",
       "                                                 All Links  \\\n",
       "ID                                                           \n",
       "0        https://i.ebayimg.com/00/s/MTYwMFgxMjAw/z/iYYA...   \n",
       "1        https://i.ebayimg.com/00/s/MTA1OFgxMTM0/z/KPIA...   \n",
       "2        https://i.ebayimg.com/00/s/MTIwMFgxNjAw/z/flIA...   \n",
       "3        http://i.ebayimg.com/00/s/ODAwWDEwNjc=/z/XHcAA...   \n",
       "4        https://i.ebayimg.com/00/s/MTA2N1gxNjAw/z/scsA...   \n",
       "...                                                    ...   \n",
       "1006085  https://i.ebayimg.com/00/s/Njk5WDcyNQ==/z/zHMA...   \n",
       "1006086  https://i.ebayimg.com/00/s/MTIwMFgxMjAw/z/0MMA...   \n",
       "1006087  https://i.ebayimg.com/00/s/MTE2M1gxNjAw/z/PSYA...   \n",
       "1006088  https://i.ebayimg.com/00/s/MTYwMFgxNjAw/z/ra8A...   \n",
       "1006089  https://d3d71ba2asa5oz.cloudfront.net/12005004...   \n",
       "\n",
       "                                                      Tags  \n",
       "ID                                                          \n",
       "0        (Brand:Shimano,US Shoe Size (Men's):4.5,Modifi...  \n",
       "1        (Color:Gray/White,Country/Region of Manufactur...  \n",
       "2        (Style:Cleats,Color:White Orange,US Shoe Size ...  \n",
       "3        (Width:Medium (D, M),US Size:9,Brand:VANS,Colo...  \n",
       "4        (US Shoe Size (Men's):10.5,Material:Enter item...  \n",
       "...                                                    ...  \n",
       "1006085  (Style:Crossfit,Shoe Height:Low Top,Modified I...  \n",
       "1006086  (Model:adidas Explosive Bounce,Product Line:ad...  \n",
       "1006087  (Style:Running, Cross Training,US Shoe Size (M...  \n",
       "1006088  (Brand:adidas,Pattern:Adidas Primeknit,Model:a...  \n",
       "1006089  (Color:Us-black/Steel-gum,MPN:CM9682-US--7 Chi...  \n",
       "\n",
       "[1002275 rows x 4 columns]"
      ]
     },
     "execution_count": 4,
     "metadata": {},
     "output_type": "execute_result"
    }
   ],
   "source": [
    "import pandas as pd\n",
    "df = pd.read_table('C:/Users/sjmal/OneDrive/Desktop/ML/2021/mlchallenge_set_2021_edited.txt')\n",
    "valid = pd.read_table('C:/Users/sjmal/OneDrive/Desktop/ML/2021/mlchallenge_set_validation.tsv',sep='\\t')\n",
    "df.set_index(\"ID\")\n",
    "df.set_index(\"ID\")"
   ]
  },
  {
   "cell_type": "code",
   "execution_count": 2,
   "metadata": {},
   "outputs": [
    {
     "name": "stdout",
     "output_type": "stream",
     "text": [
      "990\n",
      "2480\n"
     ]
    }
   ],
   "source": [
    "#create dictionary of groups with list of IDs in that group\n",
    "dict = {}\n",
    "total=0\n",
    "grouped_ids = []\n",
    "for index,row in valid.iterrows():\n",
    "    if row['Group'] in dict:\n",
    "        dict[row['Group']].append(row['ID'])\n",
    "    else:\n",
    "        dict[row['Group']] = [row['ID']]\n",
    "#list of groups with multiple IDs\n",
    "matches = []\n",
    "for key,value in dict.items():\n",
    "    if len(value) > 1:\n",
    "        for i in value:\n",
    "            grouped_ids.append(i)\n",
    "        total+=len(value)\n",
    "        matches.append(key)\n",
    "print(len(matches))\n",
    "print(len(grouped_ids))\n",
    "#print(grouped_ids)"
   ]
  },
  {
   "cell_type": "code",
   "execution_count": 3,
   "metadata": {},
   "outputs": [
    {
     "name": "stdout",
     "output_type": "stream",
     "text": [
      "   Category                                          Main Link  \\\n",
      "0         2  https://i.ebayimg.com/00/s/MTYwMFgxMjAw/z/iYYA...   \n",
      "1         2  https://i.ebayimg.com/00/s/MTA1OFgxMTM0/z/KPIA...   \n",
      "2         2  https://i.ebayimg.com/00/s/MTIwMFgxNjAw/z/flIA...   \n",
      "3         2  http://i.ebayimg.com/00/s/ODAwWDEwNjc=/z/XHcAA...   \n",
      "4         2  https://i.ebayimg.com/00/s/MTA2N1gxNjAw/z/scsA...   \n",
      "\n",
      "                                           All Links  \\\n",
      "0  https://i.ebayimg.com/00/s/MTYwMFgxMjAw/z/iYYA...   \n",
      "1  https://i.ebayimg.com/00/s/MTA1OFgxMTM0/z/KPIA...   \n",
      "2  https://i.ebayimg.com/00/s/MTIwMFgxNjAw/z/flIA...   \n",
      "3  http://i.ebayimg.com/00/s/ODAwWDEwNjc=/z/XHcAA...   \n",
      "4  https://i.ebayimg.com/00/s/MTA2N1gxNjAw/z/scsA...   \n",
      "\n",
      "                                                Tags  ID  \n",
      "0  (Brand:Shimano,US Shoe Size (Men's):4.5,Modifi...   0  \n",
      "1  (Color:Gray/White,Country/Region of Manufactur...   1  \n",
      "2  (Style:Cleats,Color:White Orange,US Shoe Size ...   2  \n",
      "3  (Width:Medium (D, M),US Size:9,Brand:VANS,Colo...   3  \n",
      "4  (US Shoe Size (Men's):10.5,Material:Enter item...   4  \n",
      "    ID    Group\n",
      "0  163  2000001\n",
      "1  194  2000003\n",
      "2  251  2000004\n",
      "3  315  2000006\n",
      "4  321  2000007\n"
     ]
    }
   ],
   "source": [
    "print(df.head())\n",
    "print(valid.head())"
   ]
  },
  {
   "cell_type": "code",
   "execution_count": 3,
   "metadata": {},
   "outputs": [
    {
     "name": "stderr",
     "output_type": "stream",
     "text": [
      "<ipython-input-3-5e0f35be6386>:4: SettingWithCopyWarning: \n",
      "A value is trying to be set on a copy of a slice from a DataFrame\n",
      "\n",
      "See the caveats in the documentation: https://pandas.pydata.org/pandas-docs/stable/user_guide/indexing.html#returning-a-view-versus-a-copy\n",
      "  df['All Links'][i] = link.split(';')\n"
     ]
    },
    {
     "name": "stdout",
     "output_type": "stream",
     "text": [
      "0     [https://i.ebayimg.com/00/s/MTYwMFgxMjAw/z/iYY...\n",
      "1     [https://i.ebayimg.com/00/s/MTA1OFgxMTM0/z/KPI...\n",
      "2     [https://i.ebayimg.com/00/s/MTIwMFgxNjAw/z/flI...\n",
      "3     [http://i.ebayimg.com/00/s/ODAwWDEwNjc=/z/XHcA...\n",
      "4     [https://i.ebayimg.com/00/s/MTA2N1gxNjAw/z/scs...\n",
      "                            ...                        \n",
      "95    [https://i.ebayimg.com/00/s/MTU5OVgxNTgx/z/vMA...\n",
      "96    [https://i.ebayimg.com/00/s/MTYwMFgxMjAw/z/GoA...\n",
      "97    [https://i.ebayimg.com/00/s/MTYwMFgxMjAw/z/Hm0...\n",
      "98    [https://i.ebayimg.com/00/s/MTYwMFgxMjAw/z/VhA...\n",
      "99    [https://i.ebayimg.com/00/s/MTYwMFgxNjAw/z/n4o...\n",
      "Name: All Links, Length: 100, dtype: object\n"
     ]
    }
   ],
   "source": [
    "#split links into list (for now only does first 100)\n",
    "i = 0\n",
    "for link in df['All Links'][0:100]:\n",
    "    df['All Links'][i] = link.split(';')\n",
    "    i+=1\n",
    "print(df['All Links'][0:100])"
   ]
  },
  {
   "cell_type": "code",
   "execution_count": 12,
   "metadata": {},
   "outputs": [
    {
     "name": "stdout",
     "output_type": "stream",
     "text": [
      "Empty DataFrame\n",
      "Columns: []\n",
      "Index: []\n"
     ]
    }
   ],
   "source": [
    "test_data = pd.DataFrame()\n",
    "for i in grouped_ids:\n",
    "    try:\n",
    "        test_data.append(df[i:])\n",
    "    except:\n",
    "        print(i)\n",
    "print(test_data.head())"
   ]
  },
  {
   "cell_type": "code",
   "execution_count": 26,
   "metadata": {},
   "outputs": [
    {
     "name": "stdout",
     "output_type": "stream",
     "text": [
      "Category                                                     2\n",
      "Main Link    https://i.ebayimg.com/00/s/NzQ0WDE2MDA=/z/B4wA...\n",
      "All Links    https://i.ebayimg.com/00/s/NzQ0WDE2MDA=/z/B4wA...\n",
      "Tags         (Closure:Lace Up,Country/Region of Manufacture...\n",
      "ID                                                         571\n",
      "Name: 567, dtype: object\n"
     ]
    }
   ],
   "source": [
    "print(test_data.iloc[0])"
   ]
  },
  {
   "cell_type": "code",
   "execution_count": 5,
   "metadata": {},
   "outputs": [],
   "source": [
    "import re\n",
    "def register_attributes(attribute, all_attributes):\n",
    "    attribute = re.sub(r'[()]','', attribute)\n",
    "    attribute = re.split(r',', attribute)\n",
    "    attribute = [a.split(':') for a in attribute]\n",
    "    for i, a in enumerate(attribute):\n",
    "        attribute[i] = [s.strip() for s in a]\n",
    "        all_attributes.add(attribute[i][0])\n",
    "    #print(f'atttribute is: {attribute}')\n",
    "    mapping = {}\n",
    "    #for i in range(len(attribute) - 1):\n",
    "    #    if i == len(attribute) - 2:\n",
    "    #        mapping[attribute[i][-1]] = attribute[i + 1][:]\n",
    "    #    else:\n",
    "    #        mapping[attribute[i][-1]] = attribute[i + 1][:-1]\n",
    "    return(attribute)\n",
    "\n",
    "def map_attributes(attribute, num_attributes, index_to_attr):\n",
    "    attribute = re.sub(r'[()]','', attribute)\n",
    "    attribute = re.split(r',', attribute)\n",
    "    attribute = [a.split(':') for a in attribute]\n",
    "    all_attributes_for_row = [None] * num_attributes\n",
    "    for i, a in enumerate(attribute):\n",
    "        attribute[i] = [s.strip() for s in a]\n",
    "        #print(f'index: {attr_to_index[attribute[i][0]]}')\n",
    "        if len(attribute[i]) > 1:\n",
    "            all_attributes_for_row[attr_to_index[attribute[i][0]]] = attribute[i][1]\n",
    "    mapping = {}\n",
    "    #for i in range(len(attribute) - 1):\n",
    "    #    if i == len(attribute) - 2:\n",
    "    #        mapping[attribute[i][-1]] = attribute[i + 1][:]\n",
    "    #    else:\n",
    "    #        mapping[attribute[i][-1]] = attribute[i + 1][:-1]\n",
    "    return all_attributes_for_row\n",
    "\n",
    "all_attributes = set()\n",
    "all_maps = []\n",
    "for index,row in df[0:1000].iterrows():\n",
    "    register_attributes(row['Tags'], all_attributes)\n",
    "\n",
    "all_attributes = list(all_attributes)\n",
    "attr_to_index = {all_attributes[i]: i for i in range(len(all_attributes))}\n",
    "#print(attr_to_index)\n",
    "#print(f'numAttributes: {len(all_attributes)}')\n",
    "\n",
    "for index,row in df[0:1000].iterrows():\n",
    "    all_maps.append(map_attributes(row['Tags'], len(all_attributes), attr_to_index))\n",
    "#print(all_maps)\n"
   ]
  },
  {
   "cell_type": "code",
   "execution_count": 6,
   "metadata": {},
   "outputs": [],
   "source": [
    "#dataframe with attribute values\n",
    "categories = pd.DataFrame(all_maps)\n",
    "#print(categories)"
   ]
  },
  {
   "cell_type": "code",
   "execution_count": 7,
   "metadata": {},
   "outputs": [
    {
     "name": "stdout",
     "output_type": "stream",
     "text": [
      "<class 'scipy.sparse.csr.csr_matrix'>\n"
     ]
    }
   ],
   "source": [
    "from sklearn.preprocessing import OneHotEncoder\n",
    "x = OneHotEncoder().fit_transform(categories)\n",
    "#print(x)\n",
    "print(type(x))"
   ]
  },
  {
   "cell_type": "code",
   "execution_count": 8,
   "metadata": {},
   "outputs": [
    {
     "name": "stdout",
     "output_type": "stream",
     "text": [
      "AgglomerativeClustering(compute_distances=True, compute_full_tree=True,\n",
      "                        distance_threshold=0.01, n_clusters=None)\n"
     ]
    }
   ],
   "source": [
    "from sklearn.cluster import AgglomerativeClustering\n",
    "clustering = AgglomerativeClustering(compute_distances=True,compute_full_tree = True,distance_threshold = .01,n_clusters=None).fit(x.todense())\n",
    "print(clustering)"
   ]
  },
  {
   "cell_type": "code",
   "execution_count": 30,
   "metadata": {},
   "outputs": [],
   "source": [
    "from sklearn.cluster import OPTICS\n",
    "clustering = OPTICS(max_eps=1,min_samples=2).fit(x.todense())"
   ]
  },
  {
   "cell_type": "code",
   "execution_count": 37,
   "metadata": {},
   "outputs": [
    {
     "name": "stdout",
     "output_type": "stream",
     "text": [
      "[inf inf inf inf inf inf inf  0.  0. inf inf inf inf inf inf inf inf inf\n",
      " inf inf inf inf inf inf inf inf inf inf inf inf inf inf inf inf inf inf\n",
      " inf inf inf inf inf inf inf inf inf inf inf inf inf inf inf inf inf inf\n",
      " inf inf inf inf inf inf inf inf inf inf inf inf inf inf inf inf inf inf\n",
      " inf inf inf inf inf inf inf inf inf inf inf inf inf inf inf inf inf inf\n",
      " inf inf inf inf inf inf inf inf inf inf inf inf inf inf inf inf inf inf\n",
      " inf inf inf inf inf inf inf inf inf inf inf inf inf inf inf inf inf inf\n",
      " inf inf inf inf inf inf inf inf inf inf inf inf inf inf inf inf inf inf\n",
      " inf inf inf inf inf inf inf inf inf inf inf inf inf inf inf inf inf inf\n",
      " inf inf inf inf inf inf inf inf inf inf inf inf inf inf inf inf inf inf\n",
      " inf inf inf inf inf inf inf inf inf inf inf inf inf inf inf inf inf inf\n",
      " inf inf inf inf inf inf inf  0.  0.  0.  0.  0.  0. inf inf inf inf inf\n",
      " inf inf inf inf inf inf inf inf inf inf inf inf inf inf inf inf inf inf\n",
      " inf inf inf inf inf inf inf inf inf inf inf inf inf inf inf inf inf inf\n",
      " inf inf inf inf inf inf inf inf inf inf inf inf inf inf inf inf inf inf\n",
      " inf inf inf inf inf inf inf inf inf inf inf inf inf inf inf inf inf inf\n",
      " inf inf inf inf inf inf inf inf inf inf inf inf inf inf inf inf inf inf\n",
      " inf inf inf inf inf inf inf inf inf inf inf inf inf inf inf inf inf inf\n",
      " inf inf inf inf inf inf inf inf inf inf inf inf inf inf inf inf inf inf\n",
      " inf inf inf inf inf inf inf inf inf inf inf inf inf inf inf inf inf inf\n",
      " inf inf inf inf inf inf inf inf inf  0.  0.  0.  0.  0.  0.  0.  0.  0.\n",
      "  0.  0.  0.  0.  0.  0.  0.  0.  0.  0.  0.  0.  0.  0.  0.  0.  0.  0.\n",
      "  0.  0.  0.  0.  0.  0. inf inf inf inf inf inf inf inf inf inf inf inf\n",
      " inf inf inf inf inf inf inf inf inf inf inf inf inf inf inf inf inf inf\n",
      " inf inf inf inf inf inf inf inf inf inf inf inf inf inf inf inf inf inf\n",
      " inf inf inf inf inf inf inf inf inf inf inf inf inf inf inf inf inf inf\n",
      " inf inf inf inf inf inf inf inf inf inf inf inf inf inf inf inf inf inf\n",
      " inf inf inf inf inf inf inf inf inf inf inf inf inf inf inf inf inf inf\n",
      " inf inf inf inf inf inf inf inf inf inf inf inf inf inf inf inf inf inf\n",
      " inf inf inf inf inf inf inf inf inf inf inf inf inf inf inf inf inf inf\n",
      " inf inf inf inf inf  0.  0. inf inf inf inf inf inf inf inf inf inf inf\n",
      " inf inf inf inf inf inf inf inf inf inf inf inf inf inf inf inf inf inf\n",
      " inf inf inf inf inf inf inf inf inf inf inf inf inf inf inf inf inf inf\n",
      " inf inf inf inf inf inf inf inf inf inf inf inf inf inf inf inf inf inf\n",
      " inf inf inf inf inf inf inf inf inf inf inf inf inf inf inf inf inf inf\n",
      " inf inf inf inf inf inf inf inf inf inf inf inf inf inf inf inf inf inf\n",
      " inf inf inf inf inf inf inf inf inf inf inf inf inf inf inf inf inf inf\n",
      " inf inf inf inf inf inf inf inf inf inf inf inf inf inf inf inf inf inf\n",
      " inf inf inf inf inf inf inf inf inf inf inf inf  0.  0. inf inf inf inf\n",
      " inf inf inf inf inf inf inf inf inf inf inf inf inf inf inf inf inf inf\n",
      " inf inf inf inf inf inf inf inf inf inf inf inf inf inf inf inf inf inf\n",
      " inf inf inf inf inf inf inf inf inf inf inf inf inf inf inf inf inf inf\n",
      " inf inf inf inf  0.  0. inf inf inf inf inf inf inf inf inf inf inf inf\n",
      " inf inf inf inf inf inf inf inf inf inf inf inf inf inf inf inf inf inf\n",
      " inf inf inf inf inf inf inf inf inf inf inf inf inf inf inf inf inf inf\n",
      " inf inf inf inf inf inf inf inf inf inf inf inf inf inf inf inf inf inf\n",
      " inf inf inf inf inf inf inf inf inf inf inf inf inf inf inf inf inf inf\n",
      " inf inf inf inf inf inf inf inf inf inf inf inf inf inf inf inf inf inf\n",
      " inf inf inf inf inf inf inf inf inf inf inf inf inf inf inf inf inf inf\n",
      " inf inf inf inf inf inf inf inf inf inf inf inf inf inf inf inf inf inf\n",
      " inf inf inf inf inf inf inf inf inf inf inf inf inf inf inf inf inf inf\n",
      " inf inf inf inf inf inf inf inf inf inf inf inf inf inf inf inf inf inf\n",
      " inf inf inf inf inf inf inf inf inf inf inf inf inf inf inf inf inf inf\n",
      " inf inf inf inf inf inf inf inf inf inf inf inf inf inf inf inf inf inf\n",
      " inf inf inf inf inf inf inf inf inf inf inf inf inf inf inf inf inf inf\n",
      " inf inf inf inf inf inf inf inf inf inf]\n",
      "[[  7   8]\n",
      " [205 210]\n",
      " [369 401]\n",
      " [545 546]\n",
      " [696 697]\n",
      " [760 761]]\n"
     ]
    },
    {
     "ename": "KeyError",
     "evalue": "\"None of [Int64Index([  0,   1,   2,   3,   4,   5,   6,   7,  35,   8,\\n            ...\\n            990, 991, 992, 993, 994, 995, 996, 997, 998, 999],\\n           dtype='int64', length=1000)] are in the [columns]\"",
     "output_type": "error",
     "traceback": [
      "\u001b[1;31m---------------------------------------------------------------------------\u001b[0m",
      "\u001b[1;31mKeyError\u001b[0m                                  Traceback (most recent call last)",
      "\u001b[1;32m<ipython-input-37-061dd37e7fe3>\u001b[0m in \u001b[0;36m<module>\u001b[1;34m\u001b[0m\n\u001b[0;32m      4\u001b[0m \u001b[1;31m#print(clustering.n_connected_components_)\u001b[0m\u001b[1;33m\u001b[0m\u001b[1;33m\u001b[0m\u001b[1;33m\u001b[0m\u001b[0m\n\u001b[0;32m      5\u001b[0m \u001b[0mprint\u001b[0m\u001b[1;33m(\u001b[0m\u001b[0mclustering\u001b[0m\u001b[1;33m.\u001b[0m\u001b[0mcluster_hierarchy_\u001b[0m\u001b[1;33m)\u001b[0m\u001b[1;33m\u001b[0m\u001b[1;33m\u001b[0m\u001b[0m\n\u001b[1;32m----> 6\u001b[1;33m \u001b[0mprint\u001b[0m\u001b[1;33m(\u001b[0m\u001b[0mdf\u001b[0m\u001b[1;33m[\u001b[0m\u001b[1;36m0\u001b[0m\u001b[1;33m:\u001b[0m\u001b[1;36m1000\u001b[0m\u001b[1;33m]\u001b[0m\u001b[1;33m[\u001b[0m\u001b[0mclustering\u001b[0m\u001b[1;33m.\u001b[0m\u001b[0mordering_\u001b[0m\u001b[1;33m]\u001b[0m\u001b[1;33m)\u001b[0m\u001b[1;33m\u001b[0m\u001b[1;33m\u001b[0m\u001b[0m\n\u001b[0m\u001b[0;32m      7\u001b[0m \u001b[1;32mfor\u001b[0m \u001b[0mi\u001b[0m \u001b[1;32min\u001b[0m \u001b[0mclustering\u001b[0m\u001b[1;33m.\u001b[0m\u001b[0mcluster_hierarchy_\u001b[0m\u001b[1;33m:\u001b[0m\u001b[1;33m\u001b[0m\u001b[1;33m\u001b[0m\u001b[0m\n\u001b[0;32m      8\u001b[0m     \u001b[0mprint\u001b[0m\u001b[1;33m(\u001b[0m\u001b[0mdf\u001b[0m\u001b[1;33m[\u001b[0m\u001b[0mclustering\u001b[0m\u001b[1;33m.\u001b[0m\u001b[0mordering_\u001b[0m\u001b[1;33m]\u001b[0m\u001b[1;33m[\u001b[0m\u001b[0mi\u001b[0m\u001b[1;33m[\u001b[0m\u001b[1;36m0\u001b[0m\u001b[1;33m]\u001b[0m\u001b[1;33m,\u001b[0m\u001b[0mi\u001b[0m\u001b[1;33m[\u001b[0m\u001b[1;36m1\u001b[0m\u001b[1;33m]\u001b[0m\u001b[1;33m+\u001b[0m\u001b[1;36m1\u001b[0m\u001b[1;33m]\u001b[0m\u001b[1;33m)\u001b[0m\u001b[1;33m\u001b[0m\u001b[1;33m\u001b[0m\u001b[0m\n",
      "\u001b[1;32mc:\\users\\sjmal\\appdata\\local\\programs\\python\\python39-32\\lib\\site-packages\\pandas\\core\\frame.py\u001b[0m in \u001b[0;36m__getitem__\u001b[1;34m(self, key)\u001b[0m\n\u001b[0;32m   3028\u001b[0m             \u001b[1;32mif\u001b[0m \u001b[0mis_iterator\u001b[0m\u001b[1;33m(\u001b[0m\u001b[0mkey\u001b[0m\u001b[1;33m)\u001b[0m\u001b[1;33m:\u001b[0m\u001b[1;33m\u001b[0m\u001b[1;33m\u001b[0m\u001b[0m\n\u001b[0;32m   3029\u001b[0m                 \u001b[0mkey\u001b[0m \u001b[1;33m=\u001b[0m \u001b[0mlist\u001b[0m\u001b[1;33m(\u001b[0m\u001b[0mkey\u001b[0m\u001b[1;33m)\u001b[0m\u001b[1;33m\u001b[0m\u001b[1;33m\u001b[0m\u001b[0m\n\u001b[1;32m-> 3030\u001b[1;33m             \u001b[0mindexer\u001b[0m \u001b[1;33m=\u001b[0m \u001b[0mself\u001b[0m\u001b[1;33m.\u001b[0m\u001b[0mloc\u001b[0m\u001b[1;33m.\u001b[0m\u001b[0m_get_listlike_indexer\u001b[0m\u001b[1;33m(\u001b[0m\u001b[0mkey\u001b[0m\u001b[1;33m,\u001b[0m \u001b[0maxis\u001b[0m\u001b[1;33m=\u001b[0m\u001b[1;36m1\u001b[0m\u001b[1;33m,\u001b[0m \u001b[0mraise_missing\u001b[0m\u001b[1;33m=\u001b[0m\u001b[1;32mTrue\u001b[0m\u001b[1;33m)\u001b[0m\u001b[1;33m[\u001b[0m\u001b[1;36m1\u001b[0m\u001b[1;33m]\u001b[0m\u001b[1;33m\u001b[0m\u001b[1;33m\u001b[0m\u001b[0m\n\u001b[0m\u001b[0;32m   3031\u001b[0m \u001b[1;33m\u001b[0m\u001b[0m\n\u001b[0;32m   3032\u001b[0m         \u001b[1;31m# take() does not accept boolean indexers\u001b[0m\u001b[1;33m\u001b[0m\u001b[1;33m\u001b[0m\u001b[1;33m\u001b[0m\u001b[0m\n",
      "\u001b[1;32mc:\\users\\sjmal\\appdata\\local\\programs\\python\\python39-32\\lib\\site-packages\\pandas\\core\\indexing.py\u001b[0m in \u001b[0;36m_get_listlike_indexer\u001b[1;34m(self, key, axis, raise_missing)\u001b[0m\n\u001b[0;32m   1263\u001b[0m             \u001b[0mkeyarr\u001b[0m\u001b[1;33m,\u001b[0m \u001b[0mindexer\u001b[0m\u001b[1;33m,\u001b[0m \u001b[0mnew_indexer\u001b[0m \u001b[1;33m=\u001b[0m \u001b[0max\u001b[0m\u001b[1;33m.\u001b[0m\u001b[0m_reindex_non_unique\u001b[0m\u001b[1;33m(\u001b[0m\u001b[0mkeyarr\u001b[0m\u001b[1;33m)\u001b[0m\u001b[1;33m\u001b[0m\u001b[1;33m\u001b[0m\u001b[0m\n\u001b[0;32m   1264\u001b[0m \u001b[1;33m\u001b[0m\u001b[0m\n\u001b[1;32m-> 1265\u001b[1;33m         \u001b[0mself\u001b[0m\u001b[1;33m.\u001b[0m\u001b[0m_validate_read_indexer\u001b[0m\u001b[1;33m(\u001b[0m\u001b[0mkeyarr\u001b[0m\u001b[1;33m,\u001b[0m \u001b[0mindexer\u001b[0m\u001b[1;33m,\u001b[0m \u001b[0maxis\u001b[0m\u001b[1;33m,\u001b[0m \u001b[0mraise_missing\u001b[0m\u001b[1;33m=\u001b[0m\u001b[0mraise_missing\u001b[0m\u001b[1;33m)\u001b[0m\u001b[1;33m\u001b[0m\u001b[1;33m\u001b[0m\u001b[0m\n\u001b[0m\u001b[0;32m   1266\u001b[0m         \u001b[1;32mreturn\u001b[0m \u001b[0mkeyarr\u001b[0m\u001b[1;33m,\u001b[0m \u001b[0mindexer\u001b[0m\u001b[1;33m\u001b[0m\u001b[1;33m\u001b[0m\u001b[0m\n\u001b[0;32m   1267\u001b[0m \u001b[1;33m\u001b[0m\u001b[0m\n",
      "\u001b[1;32mc:\\users\\sjmal\\appdata\\local\\programs\\python\\python39-32\\lib\\site-packages\\pandas\\core\\indexing.py\u001b[0m in \u001b[0;36m_validate_read_indexer\u001b[1;34m(self, key, indexer, axis, raise_missing)\u001b[0m\n\u001b[0;32m   1305\u001b[0m             \u001b[1;32mif\u001b[0m \u001b[0mmissing\u001b[0m \u001b[1;33m==\u001b[0m \u001b[0mlen\u001b[0m\u001b[1;33m(\u001b[0m\u001b[0mindexer\u001b[0m\u001b[1;33m)\u001b[0m\u001b[1;33m:\u001b[0m\u001b[1;33m\u001b[0m\u001b[1;33m\u001b[0m\u001b[0m\n\u001b[0;32m   1306\u001b[0m                 \u001b[0maxis_name\u001b[0m \u001b[1;33m=\u001b[0m \u001b[0mself\u001b[0m\u001b[1;33m.\u001b[0m\u001b[0mobj\u001b[0m\u001b[1;33m.\u001b[0m\u001b[0m_get_axis_name\u001b[0m\u001b[1;33m(\u001b[0m\u001b[0maxis\u001b[0m\u001b[1;33m)\u001b[0m\u001b[1;33m\u001b[0m\u001b[1;33m\u001b[0m\u001b[0m\n\u001b[1;32m-> 1307\u001b[1;33m                 \u001b[1;32mraise\u001b[0m \u001b[0mKeyError\u001b[0m\u001b[1;33m(\u001b[0m\u001b[1;34mf\"None of [{key}] are in the [{axis_name}]\"\u001b[0m\u001b[1;33m)\u001b[0m\u001b[1;33m\u001b[0m\u001b[1;33m\u001b[0m\u001b[0m\n\u001b[0m\u001b[0;32m   1308\u001b[0m \u001b[1;33m\u001b[0m\u001b[0m\n\u001b[0;32m   1309\u001b[0m             \u001b[0max\u001b[0m \u001b[1;33m=\u001b[0m \u001b[0mself\u001b[0m\u001b[1;33m.\u001b[0m\u001b[0mobj\u001b[0m\u001b[1;33m.\u001b[0m\u001b[0m_get_axis\u001b[0m\u001b[1;33m(\u001b[0m\u001b[0maxis\u001b[0m\u001b[1;33m)\u001b[0m\u001b[1;33m\u001b[0m\u001b[1;33m\u001b[0m\u001b[0m\n",
      "\u001b[1;31mKeyError\u001b[0m: \"None of [Int64Index([  0,   1,   2,   3,   4,   5,   6,   7,  35,   8,\\n            ...\\n            990, 991, 992, 993, 994, 995, 996, 997, 998, 999],\\n           dtype='int64', length=1000)] are in the [columns]\""
     ]
    }
   ],
   "source": [
    "#print(clustering.labels_)\n",
    "print(clustering.core_distances_[clustering.ordering_])\n",
    "#print(clustering.distances_)\n",
    "#print(clustering.n_connected_components_)\n",
    "print(clustering.cluster_hierarchy_)\n",
    "print(df[0:1000][clustering.ordering_])\n",
    "for i in clustering.cluster_hierarchy_:\n",
    "    print(df[clustering.ordering_][i[0],i[1]+1])"
   ]
  },
  {
   "cell_type": "code",
   "execution_count": 8,
   "metadata": {},
   "outputs": [],
   "source": [
    "%matplotlib qt\n",
    "import matplotlib.pyplot as plt\n",
    "from scipy.cluster.hierarchy import dendrogram\n",
    "import numpy as np\n",
    "from PIL import Image\n",
    "import requests\n",
    "from io import BytesIO\n",
    "\n",
    "def plot_dendrogram(model, **kwargs):\n",
    "    counts = np.zeros(model.children_.shape[0])\n",
    "    n_samples = len(model.labels_)\n",
    "    for i, merge in enumerate(model.children_):\n",
    "        current_count = 0\n",
    "        for child_idx in merge:\n",
    "            if child_idx < n_samples:\n",
    "                current_count += 1  # leaf node\n",
    "            else:\n",
    "                current_count += counts[child_idx - n_samples]\n",
    "        counts[i] = current_count\n",
    "\n",
    "    linkage_matrix = np.column_stack([model.children_, model.distances_,\n",
    "                                      counts]).astype(float)\n",
    "\n",
    "    #response = requests.get(url)\n",
    "    #img = Image.open(BytesIO(response.content))\n",
    "    #link_labels = [df['Tags'][i] for i in clustering.labels_]\n",
    "    dendrogram(linkage_matrix)#labels = link_labels\n",
    "plot_dendrogram(clustering)\n",
    "#plt.set_urls(df['Main Link'][i] for i in clustering.labels_)\n",
    "plt.show()"
   ]
  },
  {
   "cell_type": "code",
   "execution_count": null,
   "metadata": {},
   "outputs": [],
   "source": []
  }
 ],
 "metadata": {
  "kernelspec": {
   "display_name": "Python 3",
   "language": "python",
   "name": "python3"
  },
  "language_info": {
   "codemirror_mode": {
    "name": "ipython",
    "version": 3
   },
   "file_extension": ".py",
   "mimetype": "text/x-python",
   "name": "python",
   "nbconvert_exporter": "python",
   "pygments_lexer": "ipython3",
   "version": "3.9.1"
  }
 },
 "nbformat": 4,
 "nbformat_minor": 4
}
