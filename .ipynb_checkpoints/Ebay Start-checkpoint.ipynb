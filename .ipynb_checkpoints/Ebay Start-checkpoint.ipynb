{
 "cells": [
  {
   "cell_type": "code",
   "execution_count": 1,
   "metadata": {},
   "outputs": [],
   "source": [
    "import pandas as pd\n",
    "df = pd.read_table('C:/Users/sjmal/OneDrive/Desktop/ML/2021/mlchallenge_set_2021_edited.txt')\n",
    "valid = pd.read_table('C:/Users/sjmal/OneDrive/Desktop/ML/2021/mlchallenge_set_validation.tsv',sep='\\t')"
   ]
  },
  {
   "cell_type": "code",
   "execution_count": 2,
   "metadata": {},
   "outputs": [
    {
     "name": "stdout",
     "output_type": "stream",
     "text": [
      "990\n",
      "2480\n"
     ]
    }
   ],
   "source": [
    "#create dictionary of groups with list of IDs in that group\n",
    "dict = {}\n",
    "total=0\n",
    "for index,row in valid.iterrows():\n",
    "    if row['Group'] in dict:\n",
    "        dict[row['Group']].append(row['ID'])\n",
    "    else:\n",
    "        dict[row['Group']] = [row['ID']]\n",
    "#list of groups with multiple IDs\n",
    "matches = []\n",
    "for key,value in dict.items():\n",
    "    if len(value) > 1:\n",
    "        total+=len(value)\n",
    "        matches.append(key)\n",
    "print(len(matches))\n",
    "print(total)"
   ]
  },
  {
   "cell_type": "code",
   "execution_count": 3,
   "metadata": {},
   "outputs": [
    {
     "name": "stdout",
     "output_type": "stream",
     "text": [
      "   Category                                          Main Link  \\\n",
      "0         2  https://i.ebayimg.com/00/s/MTYwMFgxMjAw/z/iYYA...   \n",
      "1         2  https://i.ebayimg.com/00/s/MTA1OFgxMTM0/z/KPIA...   \n",
      "2         2  https://i.ebayimg.com/00/s/MTIwMFgxNjAw/z/flIA...   \n",
      "3         2  http://i.ebayimg.com/00/s/ODAwWDEwNjc=/z/XHcAA...   \n",
      "4         2  https://i.ebayimg.com/00/s/MTA2N1gxNjAw/z/scsA...   \n",
      "\n",
      "                                           All Links  \\\n",
      "0  https://i.ebayimg.com/00/s/MTYwMFgxMjAw/z/iYYA...   \n",
      "1  https://i.ebayimg.com/00/s/MTA1OFgxMTM0/z/KPIA...   \n",
      "2  https://i.ebayimg.com/00/s/MTIwMFgxNjAw/z/flIA...   \n",
      "3  http://i.ebayimg.com/00/s/ODAwWDEwNjc=/z/XHcAA...   \n",
      "4  https://i.ebayimg.com/00/s/MTA2N1gxNjAw/z/scsA...   \n",
      "\n",
      "                                                Tags  ID  \n",
      "0  (Brand:Shimano,US Shoe Size (Men's):4.5,Modifi...   0  \n",
      "1  (Color:Gray/White,Country/Region of Manufactur...   1  \n",
      "2  (Style:Cleats,Color:White Orange,US Shoe Size ...   2  \n",
      "3  (Width:Medium (D, M),US Size:9,Brand:VANS,Colo...   3  \n",
      "4  (US Shoe Size (Men's):10.5,Material:Enter item...   4  \n",
      "    ID    Group\n",
      "0  163  2000001\n",
      "1  194  2000003\n",
      "2  251  2000004\n",
      "3  315  2000006\n",
      "4  321  2000007\n"
     ]
    }
   ],
   "source": [
    "print(df.head())\n",
    "print(valid.head())"
   ]
  },
  {
   "cell_type": "code",
   "execution_count": null,
   "metadata": {},
   "outputs": [],
   "source": [
    "#split links into list (for now only does first 100)\n",
    "i = 0\n",
    "for link in df['All Links'][0:100]:\n",
    "    df['All Links'][i] = link.split(';')\n",
    "    i+=1\n",
    "print(df['All Links'][0:100])"
   ]
  },
  {
   "cell_type": "code",
   "execution_count": null,
   "metadata": {},
   "outputs": [],
   "source": [
    "import re\n",
    "def map_attributes(attribute):\n",
    "    attribute = re.sub(r'[()]','', attribute)\n",
    "    attribute = re.split(r',', attribute)\n",
    "    attribute = [a.split(':') for a in attribute]\n",
    "    for i, a in enumerate(attribute):\n",
    "        attribute[i] = [s.strip() for s in a]\n",
    "    mapping = {}\n",
    "    #for i in range(len(attribute) - 1):\n",
    "    #    if i == len(attribute) - 2:\n",
    "    #        mapping[attribute[i][-1]] = attribute[i + 1][:]\n",
    "    #    else:\n",
    "    #        mapping[attribute[i][-1]] = attribute[i + 1][:-1]\n",
    "    return(attribute)\n",
    "\n",
    "all_maps = []\n",
    "for index,row in df[0:100].iterrows():\n",
    "    all_maps.append(map_attributes(row['Tags']))\n",
    "#print(all_maps)\n",
    "\n"
   ]
  },
  {
   "cell_type": "code",
   "execution_count": 23,
   "metadata": {},
   "outputs": [
    {
     "name": "stdout",
     "output_type": "stream",
     "text": [
      "                    0                                                  1  \\\n",
      "0             Shimano                                                4.5   \n",
      "1          Gray/White                                          Indonesia   \n",
      "2              Cleats                                       White Orange   \n",
      "3            Medium D                                                  9   \n",
      "4                10.5  Enter item specific valuePLEASE READ BEFORE BI...   \n",
      "..                ...                                                ...   \n",
      "95               Male                                        New Balance   \n",
      "96                9.5                                           Nike Air   \n",
      "97               Nike                                       LeBron James   \n",
      "98  Athletic Sneakers                                                6.5   \n",
      "99           Converse                                            Hi Tops   \n",
      "\n",
      "                   2                  3                 4              5  \\\n",
      "0                 No            Cycling              None           None   \n",
      "1                  8  Athletic Sneakers    Giorgio Armani  Leather Suede   \n",
      "2                 15               Nike              None           None   \n",
      "3               VANS              Green     Suede & Denim  Skateboarding   \n",
      "4               Nike   Basketball Shoes       Multi-Color           None   \n",
      "..               ...                ...               ...            ...   \n",
      "95                 D               Grey             China           46.5   \n",
      "96             Retro               Nike  Basketball Shoes          Black   \n",
      "97  Basketball Shoes                 11              None           None   \n",
      "98            Jordan               None              None           None   \n",
      "99                 7               None              None           None   \n",
      "\n",
      "                    6              7  \\\n",
      "0                None           None   \n",
      "1                None           None   \n",
      "2                None           None   \n",
      "3            Athletic  Skateboarding   \n",
      "4                None           None   \n",
      "..                ...            ...   \n",
      "95  Athletic Sneakers         NB 580   \n",
      "96               None           None   \n",
      "97               None           None   \n",
      "98               None           None   \n",
      "99               None           None   \n",
      "\n",
      "                                                    8     9  \n",
      "0                                                None  None  \n",
      "1                                                None  None  \n",
      "2                                                None  None  \n",
      "3                                                   9  None  \n",
      "4                                                None  None  \n",
      "..                                                ...   ...  \n",
      "95  Blown rubber outsole Innovative REVlite midsol...    12  \n",
      "96                                               None  None  \n",
      "97                                               None  None  \n",
      "98                                               None  None  \n",
      "99                                               None  None  \n",
      "\n",
      "[100 rows x 10 columns]\n"
     ]
    }
   ],
   "source": [
    "#dataframe with attribute values\n",
    "df_temp = []\n",
    "for attributes in all_maps:\n",
    "    temp = []\n",
    "    for value in attributes:\n",
    "        if len(value) > 1:\n",
    "            temp.append(value[1])\n",
    "    df_temp.append(temp)\n",
    "categories = pd.DataFrame(df_temp)\n",
    "#print(categories)"
   ]
  },
  {
   "cell_type": "code",
   "execution_count": 34,
   "metadata": {},
   "outputs": [
    {
     "name": "stdout",
     "output_type": "stream",
     "text": [
      "  (0, 44)\t1.0\n",
      "  (0, 57)\t1.0\n",
      "  (0, 140)\t1.0\n",
      "  (0, 179)\t1.0\n",
      "  (0, 241)\t1.0\n",
      "  (0, 267)\t1.0\n",
      "  (0, 281)\t1.0\n",
      "  (0, 293)\t1.0\n",
      "  (0, 300)\t1.0\n",
      "  (0, 304)\t1.0\n",
      "  (1, 27)\t1.0\n",
      "  (1, 83)\t1.0\n",
      "  (1, 114)\t1.0\n",
      "  (1, 173)\t1.0\n",
      "  (1, 225)\t1.0\n",
      "  (1, 256)\t1.0\n",
      "  (1, 281)\t1.0\n",
      "  (1, 293)\t1.0\n",
      "  (1, 300)\t1.0\n",
      "  (1, 304)\t1.0\n",
      "  (2, 21)\t1.0\n",
      "  (2, 106)\t1.0\n",
      "  (2, 111)\t1.0\n",
      "  (2, 191)\t1.0\n",
      "  (2, 241)\t1.0\n",
      "  :\t:\n",
      "  (97, 267)\t1.0\n",
      "  (97, 281)\t1.0\n",
      "  (97, 293)\t1.0\n",
      "  (97, 300)\t1.0\n",
      "  (97, 304)\t1.0\n",
      "  (98, 15)\t1.0\n",
      "  (98, 58)\t1.0\n",
      "  (98, 132)\t1.0\n",
      "  (98, 205)\t1.0\n",
      "  (98, 241)\t1.0\n",
      "  (98, 267)\t1.0\n",
      "  (98, 281)\t1.0\n",
      "  (98, 293)\t1.0\n",
      "  (98, 300)\t1.0\n",
      "  (98, 304)\t1.0\n",
      "  (99, 22)\t1.0\n",
      "  (99, 82)\t1.0\n",
      "  (99, 113)\t1.0\n",
      "  (99, 205)\t1.0\n",
      "  (99, 241)\t1.0\n",
      "  (99, 267)\t1.0\n",
      "  (99, 281)\t1.0\n",
      "  (99, 293)\t1.0\n",
      "  (99, 300)\t1.0\n",
      "  (99, 304)\t1.0\n",
      "<class 'scipy.sparse.csr.csr_matrix'>\n"
     ]
    }
   ],
   "source": [
    "from sklearn.preprocessing import OneHotEncoder\n",
    "x = OneHotEncoder().fit_transform(categories)\n",
    "#print(x)\n",
    "print(type(x))"
   ]
  },
  {
   "cell_type": "code",
   "execution_count": 75,
   "metadata": {},
   "outputs": [
    {
     "name": "stdout",
     "output_type": "stream",
     "text": [
      "AgglomerativeClustering(compute_distances=True, compute_full_tree=True,\n",
      "                        distance_threshold=1, n_clusters=None)\n"
     ]
    }
   ],
   "source": [
    "from sklearn.cluster import AgglomerativeClustering\n",
    "clustering = AgglomerativeClustering(compute_distances=True,compute_full_tree = True,distance_threshold = .5,n_clusters=None).fit(x.todense())\n",
    "print(clustering)"
   ]
  },
  {
   "cell_type": "code",
   "execution_count": 80,
   "metadata": {},
   "outputs": [
    {
     "name": "stdout",
     "output_type": "stream",
     "text": [
      "[50 75 83 84 56 82 63 98 54 87 88 81 97 95 65 89 48 96 99 77 60 61 47 80\n",
      " 41 85 94 86 93 79 42 78 92 23 20 49 67 39 91 69 57 38 70 68 64 33 62 53\n",
      " 30 66 73 76 71 72 40 45 26 90 35 59 46 52 43 58 37 51 74 24 32 44 55 11\n",
      " 19 34 36 31  9 18 21 16 28 15 17 22 27  7 25 12 29 10 13  5 14  8  6  2\n",
      "  3  4  1  0]\n",
      "[ 2.          2.          2.          2.          2.          2.\n",
      "  2.          2.          2.          2.          2.          2.\n",
      "  2.          2.30940108  2.30940108  2.30940108  2.44948974  2.44948974\n",
      "  2.44948974  2.44948974  2.44948974  2.44948974  2.44948974  2.44948974\n",
      "  2.44948974  2.44948974  2.44948974  2.44948974  2.44948974  2.44948974\n",
      "  2.44948974  2.5819889   2.64575131  2.64575131  2.7080128   2.7080128\n",
      "  2.7080128   2.7080128   2.76887462  2.76887462  2.76887462  2.82842712\n",
      "  2.82842712  2.82842712  2.82842712  2.82842712  2.82842712  2.82842712\n",
      "  2.91767382  2.94392029  2.94392029  3.          3.05455672  3.05505046\n",
      "  3.09838668  3.16227766  3.16227766  3.16227766  3.16227766  3.31662479\n",
      "  3.35161653  3.3946737   3.43511281  3.46410162  3.46410162  3.46410162\n",
      "  3.46410162  3.46410162  3.46410162  3.46410162  3.48329346  3.55902608\n",
      "  3.63318042  3.69555718  3.74165739  3.78942757  3.82970843  3.89444048\n",
      "  3.95931692  4.          4.          4.02979102  4.04969135  4.163332\n",
      "  4.16866619  4.23801655  4.24264069  4.34613494  4.41210456  4.49376673\n",
      "  4.53557368  4.54606057  4.63526852  4.93613346  5.01169893  5.08405537\n",
      "  6.16502709  6.55535867 10.29328736]\n",
      "1\n"
     ]
    }
   ],
   "source": [
    "print(clustering.labels_)\n",
    "print(clustering.distances_)\n",
    "print(clustering.n_connected_components_)"
   ]
  },
  {
   "cell_type": "code",
   "execution_count": 82,
   "metadata": {},
   "outputs": [],
   "source": [
    "%matplotlib qt\n",
    "import matplotlib.pyplot as plt\n",
    "from scipy.cluster.hierarchy import dendrogram\n",
    "import numpy as np\n",
    "\n",
    "plot_dendrogram(clustering)\n",
    "plt.show()"
   ]
  },
  {
   "cell_type": "code",
   "execution_count": null,
   "metadata": {},
   "outputs": [],
   "source": []
  }
 ],
 "metadata": {
  "kernelspec": {
   "display_name": "Python 3",
   "language": "python",
   "name": "python3"
  },
  "language_info": {
   "codemirror_mode": {
    "name": "ipython",
    "version": 3
   },
   "file_extension": ".py",
   "mimetype": "text/x-python",
   "name": "python",
   "nbconvert_exporter": "python",
   "pygments_lexer": "ipython3",
   "version": "3.9.1"
  }
 },
 "nbformat": 4,
 "nbformat_minor": 4
}
