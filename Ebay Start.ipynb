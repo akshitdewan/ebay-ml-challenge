{
 "cells": [
  {
   "cell_type": "code",
   "execution_count": 1,
   "metadata": {},
   "outputs": [],
   "source": [
    "import pandas as pd\n",
    "df = pd.read_table('C:/Users/sjmal/OneDrive/Desktop/ML/2021/mlchallenge_set_2021_edited.txt')\n",
    "valid = pd.read_table('C:/Users/sjmal/OneDrive/Desktop/ML/2021/mlchallenge_set_validation.tsv',sep='\\t')"
   ]
  },
  {
   "cell_type": "code",
   "execution_count": 2,
   "metadata": {},
   "outputs": [
    {
     "name": "stdout",
     "output_type": "stream",
     "text": [
      "990\n",
      "2480\n"
     ]
    }
   ],
   "source": [
    "#create dictionary of groups with list of IDs in that group\n",
    "dict = {}\n",
    "total=0\n",
    "for index,row in valid.iterrows():\n",
    "    if row['Group'] in dict:\n",
    "        dict[row['Group']].append(row['ID'])\n",
    "    else:\n",
    "        dict[row['Group']] = [row['ID']]\n",
    "#list of groups with multiple IDs\n",
    "matches = []\n",
    "for key,value in dict.items():\n",
    "    if len(value) > 1:\n",
    "        total+=len(value)\n",
    "        matches.append(key)\n",
    "print(len(matches))\n",
    "print(total)"
   ]
  },
  {
   "cell_type": "code",
   "execution_count": 3,
   "metadata": {},
   "outputs": [
    {
     "name": "stdout",
     "output_type": "stream",
     "text": [
      "   Category                                          Main Link  \\\n",
      "0         2  https://i.ebayimg.com/00/s/MTYwMFgxMjAw/z/iYYA...   \n",
      "1         2  https://i.ebayimg.com/00/s/MTA1OFgxMTM0/z/KPIA...   \n",
      "2         2  https://i.ebayimg.com/00/s/MTIwMFgxNjAw/z/flIA...   \n",
      "3         2  http://i.ebayimg.com/00/s/ODAwWDEwNjc=/z/XHcAA...   \n",
      "4         2  https://i.ebayimg.com/00/s/MTA2N1gxNjAw/z/scsA...   \n",
      "\n",
      "                                           All Links  \\\n",
      "0  https://i.ebayimg.com/00/s/MTYwMFgxMjAw/z/iYYA...   \n",
      "1  https://i.ebayimg.com/00/s/MTA1OFgxMTM0/z/KPIA...   \n",
      "2  https://i.ebayimg.com/00/s/MTIwMFgxNjAw/z/flIA...   \n",
      "3  http://i.ebayimg.com/00/s/ODAwWDEwNjc=/z/XHcAA...   \n",
      "4  https://i.ebayimg.com/00/s/MTA2N1gxNjAw/z/scsA...   \n",
      "\n",
      "                                                Tags  ID  \n",
      "0  (Brand:Shimano,US Shoe Size (Men's):4.5,Modifi...   0  \n",
      "1  (Color:Gray/White,Country/Region of Manufactur...   1  \n",
      "2  (Style:Cleats,Color:White Orange,US Shoe Size ...   2  \n",
      "3  (Width:Medium (D, M),US Size:9,Brand:VANS,Colo...   3  \n",
      "4  (US Shoe Size (Men's):10.5,Material:Enter item...   4  \n",
      "    ID    Group\n",
      "0  163  2000001\n",
      "1  194  2000003\n",
      "2  251  2000004\n",
      "3  315  2000006\n",
      "4  321  2000007\n"
     ]
    }
   ],
   "source": [
    "print(df.head())\n",
    "print(valid.head())"
   ]
  },
  {
   "cell_type": "code",
   "execution_count": 4,
   "metadata": {},
   "outputs": [
    {
     "name": "stderr",
     "output_type": "stream",
     "text": [
      "<ipython-input-4-5e0f35be6386>:4: SettingWithCopyWarning: \n",
      "A value is trying to be set on a copy of a slice from a DataFrame\n",
      "\n",
      "See the caveats in the documentation: https://pandas.pydata.org/pandas-docs/stable/user_guide/indexing.html#returning-a-view-versus-a-copy\n",
      "  df['All Links'][i] = link.split(';')\n"
     ]
    },
    {
     "name": "stdout",
     "output_type": "stream",
     "text": [
      "0     [https://i.ebayimg.com/00/s/MTYwMFgxMjAw/z/iYY...\n",
      "1     [https://i.ebayimg.com/00/s/MTA1OFgxMTM0/z/KPI...\n",
      "2     [https://i.ebayimg.com/00/s/MTIwMFgxNjAw/z/flI...\n",
      "3     [http://i.ebayimg.com/00/s/ODAwWDEwNjc=/z/XHcA...\n",
      "4     [https://i.ebayimg.com/00/s/MTA2N1gxNjAw/z/scs...\n",
      "                            ...                        \n",
      "95    [https://i.ebayimg.com/00/s/MTU5OVgxNTgx/z/vMA...\n",
      "96    [https://i.ebayimg.com/00/s/MTYwMFgxMjAw/z/GoA...\n",
      "97    [https://i.ebayimg.com/00/s/MTYwMFgxMjAw/z/Hm0...\n",
      "98    [https://i.ebayimg.com/00/s/MTYwMFgxMjAw/z/VhA...\n",
      "99    [https://i.ebayimg.com/00/s/MTYwMFgxNjAw/z/n4o...\n",
      "Name: All Links, Length: 100, dtype: object\n"
     ]
    }
   ],
   "source": [
    "#split links into list (for now only does first 100)\n",
    "i = 0\n",
    "for link in df['All Links'][0:100]:\n",
    "    df['All Links'][i] = link.split(';')\n",
    "    i+=1\n",
    "print(df['All Links'][0:100])"
   ]
  },
  {
   "cell_type": "raw",
   "metadata": {},
   "source": [
    "import re\n",
    "def map_attributes(attribute):\n",
    "    attribute = \"(Colors:blue, white,Special Note::very nice,Style: Modern)\"\n",
    "    attribute = re.sub(r'[()]','', attribute)\n",
    "    attribute = re.split(r':+', attribute)\n",
    "    attribute = [a.split(',') for a in attribute]\n",
    "    for i, a in enumerate(attribute):\n",
    "        attribute[i] = [s.strip() for s in a]\n",
    "    mapping = {}\n",
    "    for i in range(len(attribute) - 1):\n",
    "        if i == len(attribute) - 2:\n",
    "            mapping[attribute[i][-1]] = attribute[i + 1][:]\n",
    "        else:\n",
    "            mapping[attribute[i][-1]] = attribute[i + 1][:-1]\n",
    "    return(mapping)"
   ]
  },
  {
   "cell_type": "code",
   "execution_count": 35,
   "metadata": {},
   "outputs": [
    {
     "name": "stdout",
     "output_type": "stream",
     "text": [
      "[{'Colors': ['blue', 'white'], 'Special Note': ['very nice'], 'Style': ['Modern']}, {'Colors': ['blue', 'white'], 'Special Note': ['very nice'], 'Style': ['Modern']}, {'Colors': ['blue', 'white'], 'Special Note': ['very nice'], 'Style': ['Modern']}, {'Colors': ['blue', 'white'], 'Special Note': ['very nice'], 'Style': ['Modern']}, {'Colors': ['blue', 'white'], 'Special Note': ['very nice'], 'Style': ['Modern']}]\n"
     ]
    }
   ],
   "source": [
    "all_maps = []\n",
    "for index,row in df[0:100].iterrows():\n",
    "    all_maps.append(map_attributes(row['Tags']))\n",
    "print(all_maps)"
   ]
  },
  {
   "cell_type": "code",
   "execution_count": null,
   "metadata": {},
   "outputs": [],
   "source": [
    "from sklearn.preprocessing import OneHotEncoder\n"
   ]
  }
 ],
 "metadata": {
  "kernelspec": {
   "display_name": "Python 3",
   "language": "python",
   "name": "python3"
  },
  "language_info": {
   "codemirror_mode": {
    "name": "ipython",
    "version": 3
   },
   "file_extension": ".py",
   "mimetype": "text/x-python",
   "name": "python",
   "nbconvert_exporter": "python",
   "pygments_lexer": "ipython3",
   "version": "3.9.1"
  }
 },
 "nbformat": 4,
 "nbformat_minor": 4
}
