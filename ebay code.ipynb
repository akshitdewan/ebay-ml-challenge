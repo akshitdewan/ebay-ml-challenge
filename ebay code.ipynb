{
 "cells": [
  {
   "cell_type": "code",
   "execution_count": null,
   "metadata": {},
   "outputs": [],
   "source": [
    "'''\n",
    "Code copied from this source as recommended by Ebay official since current version of scikit-learn does not have pair confusion matrix\n",
    "https://github.com/scikit-learn/scikit-learn/blob/master/sklearn/metrics/cluster/_supervised.py\n",
    "'''\n",
    "import numpy as np\n",
    "from sklearn.metrics.cluster._supervised import contingency_matrix, check_clusterings\n",
    "def pair_confusion_matrix(labels_true, labels_pred):\n",
    "    \"\"\"Pair confusion matrix arising from two clusterings.\n",
    "    The pair confusion matrix :math:`C` computes a 2 by 2 similarity matrix\n",
    "    between two clusterings by considering all pairs of samples and counting\n",
    "    pairs that are assigned into the same or into different clusters under\n",
    "    the true and predicted clusterings.\n",
    "    Considering a pair of samples that is clustered together a positive pair,\n",
    "    then as in binary classification the count of true negatives is\n",
    "    :math:`C_{00}`, false negatives is :math:`C_{10}`, true positives is\n",
    "    :math:`C_{11}` and false positives is :math:`C_{01}`.\n",
    "    Read more in the :ref:`User Guide <pair_confusion_matrix>`.\n",
    "    Parameters\n",
    "    ----------\n",
    "    labels_true : array-like of shape (n_samples,), dtype=integral\n",
    "        Ground truth class labels to be used as a reference.\n",
    "    labels_pred : array-like of shape (n_samples,), dtype=integral\n",
    "        Cluster labels to evaluate.\n",
    "    Returns\n",
    "    -------\n",
    "    C : ndarray of shape (2, 2), dtype=np.int64\n",
    "        The contingency matrix.\n",
    "    See Also\n",
    "    --------\n",
    "    rand_score: Rand Score\n",
    "    adjusted_rand_score: Adjusted Rand Score\n",
    "    adjusted_mutual_info_score: Adjusted Mutual Information\n",
    "    Examples\n",
    "    --------\n",
    "    Perfectly matching labelings have all non-zero entries on the\n",
    "    diagonal regardless of actual label values:\n",
    "      >>> from sklearn.metrics.cluster import pair_confusion_matrix\n",
    "      >>> pair_confusion_matrix([0, 0, 1, 1], [1, 1, 0, 0])\n",
    "      array([[8, 0],\n",
    "             [0, 4]]...\n",
    "    Labelings that assign all classes members to the same clusters\n",
    "    are complete but may be not always pure, hence penalized, and\n",
    "    have some off-diagonal non-zero entries:\n",
    "      >>> pair_confusion_matrix([0, 0, 1, 2], [0, 0, 1, 1])\n",
    "      array([[8, 2],\n",
    "             [0, 2]]...\n",
    "    Note that the matrix is not symmetric.\n",
    "    References\n",
    "    ----------\n",
    "    .. L. Hubert and P. Arabie, Comparing Partitions, Journal of\n",
    "      Classification 1985\n",
    "      https://link.springer.com/article/10.1007%2FBF01908075\n",
    "    \"\"\"\n",
    "    labels_true, labels_pred = check_clusterings(labels_true, labels_pred)\n",
    "    n_samples = np.int64(labels_true.shape[0])\n",
    "\n",
    "    # Computation using the contingency data\n",
    "    contingency = contingency_matrix(\n",
    "        labels_true, labels_pred, sparse=True\n",
    "        )#, dtype=np.int64)\n",
    "    n_c = np.ravel(contingency.sum(axis=1))\n",
    "    n_k = np.ravel(contingency.sum(axis=0))\n",
    "    sum_squares = (contingency.data ** 2).sum()\n",
    "    C = np.empty((2, 2), dtype=np.int64)\n",
    "    C[1, 1] = sum_squares - n_samples\n",
    "    C[0, 1] = contingency.dot(n_k).sum() - sum_squares\n",
    "    C[1, 0] = contingency.transpose().dot(n_c).sum() - sum_squares\n",
    "    C[0, 0] = n_samples ** 2 - C[0, 1] - C[1, 0] - sum_squares\n",
    "    return C"
   ]
  },
  {
   "cell_type": "code",
   "execution_count": 1,
   "metadata": {},
   "outputs": [],
   "source": [
    "import pandas as pd\n",
    "akshit_df = './mlchallenge_set_2021.tsv'\n",
    "akshit_valid = './mlchallenge_set_validation.tsv'\n",
    "sam_df = 'C:/Users/sjmal/OneDrive/Desktop/ML/2021/mlchallenge_set_2021_edited.txt'\n",
    "sam_valid = 'C:/Users/sjmal/OneDrive/Desktop/ML/2021/mlchallenge_set_validation.tsv'\n",
    "SA_valid=pd.read_table('/Users/shivankagrawal/Documents/ebay/mlchallenge_set_validation.tsv',header=None)\n",
    "SA_df=pd.read_table('/Users/shivankagrawal/Documents/ebay/mlchallenge_set_2021.tsv',header=None)\n",
    "df=SA_df\n",
    "valid=SA_valid \n",
    "#df = pd.read_table(akshit_df)\n",
    "#valid = pd.read_table(akshit_valid,sep='\\t')\n",
    "SA_valid = valid\n",
    "SA_df = df\n",
    "df.columns=['category','primary_image_url','All Links','Tags','index']\n",
    "valid.columns=['ID', 'Group']\n",
    "valid.set_index('ID', inplace=True)"
   ]
  },
  {
   "cell_type": "code",
   "execution_count": null,
   "metadata": {},
   "outputs": [],
   "source": [
    "\"\"\"\n",
    "Import test output file as dataframe and set the index.\n",
    "\"\"\"\n",
    "output = './akshit.tsv'\n",
    "predictions = pd.read_table(output,header=None)\n",
    "predictions.columns = ['ID', 'Group']\n",
    "predictions.set_index('ID', inplace=True)"
   ]
  },
  {
   "cell_type": "code",
   "execution_count": null,
   "metadata": {},
   "outputs": [],
   "source": [
    "print(predictions)"
   ]
  },
  {
   "cell_type": "code",
   "execution_count": null,
   "metadata": {},
   "outputs": [],
   "source": [
    "\"\"\"\n",
    "Compute confusion matrix for validation data. Use valid dataframe to extract values from a tsv output file.\n",
    "\"\"\"\n",
    "preds = []\n",
    "actuals = []\n",
    "for index, row in valid.iterrows():\n",
    "    preds.append(predictions.loc[index]['Group'])\n",
    "    actuals.append(row['Group'])\n",
    "# print(preds[100:200])\n",
    "# print(actuals[100:200])\n",
    "def evaluate(actuals, preds):\n",
    "    C = pair_confusion_matrix(actuals, preds)\n",
    "    precision = C[1][1] / (C[1][1] + C[0][1]) # (true positives) / (true positives + false positives)\n",
    "    recall = C[1][1] / (C[1][1] + C[1][0]) # (true positives) / (true positives + false negatives)\n",
    "    print(f'Confusion Matrix:\\n{C}')\n",
    "    print(f'precision: {precision}')\n",
    "    print(f'recall: {recall}')\n",
    "    print(f'f1 score: {2 * precision * recall / (precision + recall)}')\n",
    "\n",
    "evaluate(actuals, preds)"
   ]
  },
  {
   "cell_type": "code",
   "execution_count": null,
   "metadata": {},
   "outputs": [],
   "source": [
    "print(df.head())\n",
    "print(valid.head())"
   ]
  },
  {
   "cell_type": "code",
   "execution_count": 2,
   "metadata": {},
   "outputs": [
    {
     "output_type": "stream",
     "name": "stdout",
     "text": [
      "0     [https://i.ebayimg.com/00/s/MTYwMFgxMjAw/z/iYY...\n1     [https://i.ebayimg.com/00/s/MTA1OFgxMTM0/z/KPI...\n2     [https://i.ebayimg.com/00/s/MTIwMFgxNjAw/z/flI...\n3     [http://i.ebayimg.com/00/s/ODAwWDEwNjc=/z/XHcA...\n4     [https://i.ebayimg.com/00/s/MTA2N1gxNjAw/z/scs...\n                            ...                        \n95    [https://i.ebayimg.com/00/s/MTU5OVgxNTgx/z/vMA...\n96    [https://i.ebayimg.com/00/s/MTYwMFgxMjAw/z/GoA...\n97    [https://i.ebayimg.com/00/s/MTYwMFgxMjAw/z/Hm0...\n98    [https://i.ebayimg.com/00/s/MTYwMFgxMjAw/z/VhA...\n99    [https://i.ebayimg.com/00/s/MTYwMFgxNjAw/z/n4o...\nName: All Links, Length: 100, dtype: object\n"
     ]
    }
   ],
   "source": [
    "#split links into list (for now only does first 100)\n",
    "i = 0\n",
    "for link in df['All Links'][0:100]:\n",
    "    df['All Links'][i] = link.split(';')\n",
    "    i+=1\n",
    "print(df['All Links'][0:100])"
   ]
  },
  {
   "cell_type": "code",
   "execution_count": 3,
   "metadata": {},
   "outputs": [
    {
     "output_type": "stream",
     "name": "stdout",
     "text": [
      "allocated array\n",
      "am out of loop\n"
     ]
    }
   ],
   "source": [
    "\"\"\"\n",
    "Frequency counting of the tags in a particular category.\n",
    "\"\"\"\n",
    "import re\n",
    "from collections import Counter\n",
    "# for category in range(1, 6):\n",
    "df = SA_df\n",
    "df = df.loc[df['category'] == 5]\n",
    "freq=Counter()\n",
    "attribute=[['']]*len(df)\n",
    "print('allocated array')\n",
    "trialrange=len(df)\n",
    "for x in range(0, trialrange, 5):#range(int(len(df)/10)):#len(df)\n",
    "    attribute[x]=df.iloc[x,3].lower()\n",
    "    attribute[x] = attribute[x][1:-1] # remove starting and ending parentheses\n",
    "    attribute[x] = re.split(r',(?![^(]*\\))', attribute[x]) # ignore commas that are inside parentheses\n",
    "    attribute[x] = [a.split(':') for a in attribute[x]]\n",
    "    freq+=Counter([i[0] for i in attribute[x]])\n",
    "    tempdict={}\n",
    "#     print(df.iloc[x,3])\n",
    "    #print(attribute[x])\n",
    "#     print(attribute)\n",
    "    for i in attribute[x]:\n",
    "        try:\n",
    "            tempdict[i[0]]=float(i[1])\n",
    "        except:\n",
    "            try:\n",
    "                tempdict[i[0]]=i[1]\n",
    "            except:\n",
    "                pass\n",
    "    attribute[x]=tempdict\n",
    "#     print(attribute[x])\n",
    "df = SA_df\n",
    "print(\"am out of loop\")"
   ]
  },
  {
   "cell_type": "code",
   "execution_count": null,
   "metadata": {},
   "outputs": [],
   "source": [
    "d = dict((k, v) for k, v in freq.items() if v > 20)\n",
    "array = list(sorted(d, key=lambda k: d[k],reverse=True))[:10]\n",
    "d= {k: v for k, v in sorted(d.items(), key=lambda item: item[1],reverse=True)}\n",
    "print(d)\n",
    "print(array)\n",
    "import matplotlib.pyplot as plt\n",
    "#import matplotlib.pyplot as plt\n",
    "plt.bar(d.keys(),d.values())\n",
    "plt.show()"
   ]
  },
  {
   "cell_type": "code",
   "execution_count": null,
   "metadata": {},
   "outputs": [],
   "source": [
    "df = SA_df"
   ]
  },
  {
   "cell_type": "code",
   "execution_count": 12,
   "metadata": {
    "scrolled": true,
    "tags": [
     "outputPrepend"
    ]
   },
   "outputs": [
    {
     "output_type": "stream",
     "name": "stdout",
     "text": [
      "-gry-fl': 1, '1mfsdbfg-wht-tn': 1, 'island monkeys': 1, 'l08': 1, '68 x 93”': 1, 'coconut (white and beige)': 1, 'tommy bahama by sferra': 1, '100% cotton fishbone': 1, 'tropical mosaic': 1, '641022746035': 1, '11000fre-whb-kg': 1, 'shades of pinks': 1, 'morgan jones~~springs mills inc': 1, '50% dacron polyester & 50% cotton': 1, 't250 stripe duvet': 1, 'cover': 1, 'luxurious satin polyester': 1, 'white w/ white embroidery': 1, '11000lfe-whl-kg': 1, '1a38664': 1, 'ms15-002-171-07': 1, 'green blue & pink = silver': 1, 'sander collection': 1, 'oressquw': 1, 'white eyelet lace trim': 1, 'ribbons': 1, 'ch6783pukg': 1, '2642001': 1, '10ctnair-sil-tn': 1, 'full sheet set with pillow cases': 1, 'bright green': 1, 'grand dot': 1, '1a30181': 1, 'lattice insert trim': 1, 'red (damask stripe)': 1, 'solid with double stripe': 1, 'the gordonsbury company': 1, 'blue / pink': 1, 'striped & roses': 1, 'grey stone': 1, 'waterproof mattress pad  twin': 1, '110006sb-bbl-kg': 1, 'fba_vil-6pc-slt-q': 1, 'wexham': 1, 'the lion king': 1, 'qqtu1023': 1, 'creamy off white slightly ivory': 1, 'frayed edge': 1, '55% linen 45% cotton': 1, 'flat sheet+2 pillow case': 1, 'full 80 x 92': 1, 'kaleidoscope': 1, 'multicolor aztec print': 1, 'gray maternity soft cool boho': 1, 'pale spring green': 1, 'solid with hem detail': 1, 'full 84\" x 102\"': 1, 'golden tans': 1, 'tropical/ mediterranean': 1, 'basket weave bamboo/ palm trees': 1, 'red floral tulips': 1, 'queen 60 x 80': 1, 'ebeddy linens': 1, '600515422047': 1, 'white blue green & gray': 1, 'big believers': 1, 'gray shades': 1, 'cleanrest': 1, '845168001687': 1, '39x75x15': 1, 'eggplant/purple': 1, '80/20 cotton poly': 1, 'florentina': 1, 'day bedskirt': 1, 'elise & james home': 1, 'ss14069': 1, 'nautical shark': 1, 'rattan': 1, 'white/green and red': 1, 'floral stitch on one side solid white on the other': 1, '80\" diameter': 1, 'corn kernels corduroy': 1, 'paper rose': 1, 'fuchsia supreme (hot pink)': 1, 'yz46-001-215-16': 1, '77in x 59in': 1, '1mflaceg-wbs-qn': 1, 'multi-color-blue field': 1, 'hope floral': 1, 'mushroom': 1, 'gray-4 pieces': 1, 'bs-gray-3': 1, 'ivory/gray': 1, 'white / tan': 1, '1100m14e-gld-tn': 1, 'light red': 1, 'dream n color': 1, '34180': 1, 'design toscano': 1, '0b171552e22744f9bb0b8a3ae5cdfb79': 1, 'b00qksv8ti': 1, 'co022133': 1, 'white/gray/grey': 1, 'marlin fish': 1, 'larro': 1, 'green rust brown tan multi': 1, 'wilkes foulard equestrian': 1, '66-90-k-t': 1, 'multi-colors on light blue': 1, 'easter eggs and little yellow chicks': 1, 'dh768444134490': 1, 'ivory blue red': 1, 'busa801a4al2rt': 1, 'loric': 1, 'multi-color yellow': 1, 'ch6783bgfu': 1, '120x200x8cm': 1, 'envelope sheet': 1, '59707898bd7841328e5d4c81d7bbc6b4': 1, '6ss08tl790': 1, '1mfwptsg-gry-fl': 1, 'sheet set comforter curtains': 1, 'co-300kgbs slbg': 1, 's-b-q-purple': 1, '10100mfs-wht-ck': 1, '43256-1502': 1, '1d6spck120pe': 1, 'green beige': 1, '10600st1-lvr-kg': 1, 'camel tan brown': 1, 'dusty pink & white': 1, 'dusty pink floral': 1, 'rekoop_white_kg': 1, 're  room essentials': 1, '60% cotton & 40% polyestr': 1, 'homeideas d01v172n': 1, 'deer with scarf': 1, 'qs3382-bib-us': 1, 'belk': 1, 'animal print/striped': 1, 'southshorefine-sheet': 1, 'lady price': 1, 'full size extra length': 1, 'karven': 1, 'comin16ju004321': 1, 'shet20-543': 1, 'kismet ii': 1, 'colchas para cama edredones ropa de cubre cobijas': 1, 'cr600oqsh sliv': 1, 'white on soft green': 1, '1100m14e-chr-kg': 1, 'stripebrown': 1, 'homebedandbath': 1, 'khaki & red': 1, '3334236': 1, 'toca boca': 1, '850101': 1, '2d7c4a3c4acc477197d3008d459fee07': 1, '300xlsh stsg': 1, '11200sdf-ssg-qn': 1, 'eadeco': 1, '7f13a6474f3a4966b3033b162057dfe9': 1, 'ivy hill home kids': 1, 'quilt & sham': 1, '1natxmfsg-blu-qn': 1, 'shet20-727': 1, 'retro design santa claus faces': 1, 'palmtrees': 1, '3370952': 1, 'striped demask': 1, 'cream and grey': 1, '300sksh stmo': 1, 'bk7090175b-sm': 1, 'luxe collection': 1, 'stonewashed': 1, 'comin18ju048996': 1, '266063': 1, 'travelwedge®': 1, 'twfcmid': 1, '43178-231300': 1, 'white red yellow': 1, 'your smile': 1, 'topaz': 1, 'christian art gifts': 1, 'mugs15': 1, 'sea bright inn': 1, 'herrscners': 1, 'vend_us_print-sheet-t-chebord': 1, 'yz01twss': 1, \"mirage studio's usa\": 1, '7539650699': 1, 'thm-300-sld-silver-q': 1, 'bruyere': 1, 'exotic whimsical': 1, '1327281': 1, '43224-19353': 1, 'taf8f558t': 1, 'bc-4pc-sfl-f-lb': 1, 'fancy collection': 1, '400qnsh sltp': 1, 'platinum / gray': 1, 'from bed bath & beyond': 1, 'dh768444134506': 1, 'lustersoft': 1, 'moe': 1, '2 way tricot': 1, 'bartec usa': 1, 'wrtobd003b-dt': 1, 'pillowcase and flat sheet': 1, '11000fre-whc-kg': 1, '400twsh sltp': 1, '1mflacee-ywl-tn': 1, 'ma9478': 1, '600solqnwh': 1, '266083': 1, 'baseball league logos': 1, 'studio d': 1, 'king bed with twin flat sheets see description': 1, 'beige blues': 1, '5 oz flannel': 1, '1mflaceg-dov-qn': 1, 'co022074': 1, '530sksh slbg': 1, 'modern unique designer soft co': 1, 'dragonfly': 1, 'multi-color design on white': 1, 'desert': 1, 'twin flat sheet only': 1, 'bk7496375sgwcp-sm': 1, 'wekender': 1, 'blue trellis': 1, '6prgsqf1qd': 1, 'summit collection': 1, '78\" x 102\"': 1, 'fabrictech international': 1, '11000lfe-whl-qn': 1, 'jacquard printed taupe': 1, 'cotton-printed-004': 1, '2304060': 1, 'qs1767-us': 1, 'shades of green on off/white; cream': 1, \"shamrocks/st. patrick's day\": 1, 'shades of green shamrocks': 1, 'glenmore collection': 1, 'deep burgundy red': 1, 'stripe dobby damask': 1, 'child size': 1, 'safari kids': 1, 'duvet and pillow cover': 1, 'millenium': 1, 'me-001': 1, '07172600012brn': 1, 'white blue yellow': 1, 'futon cover': 1, '840307115867': 1, 'glo': 1, 'night time fog': 1, 'ovs_cottn-sht': 1, 'blueish pattern': 1, 'asterisk': 1, 'dh829375154619': 1, 'holiday plaid': 1, 'chqnship600cr': 1, '300xlsh sllv': 1, '11000dmg-blk-qn': 1, '400xlsh stwh': 1, 'sru9692': 1, 'paisley brown': 1, 'multi color on cream': 1, 'ss-blk-tw': 1, 'pink with blue': 1, 'seraglio': 1, 'west point home': 1, 'tft-14': 1, '193688': 1, 'color your world with imagination': 1, 'simple maternity sham cool': 1, '888804036346': 1, 'beige - glacier gray': 1, 'ms45-002-001-06': 1, '1prtsstg-frn-qn': 1, 'simply shabby chic rachel ashwell': 1, 'cottage shabby chic beach house': 1, 'colorful dreams': 1, 'alcott hill': 1, 'c7d7e99f2d514e20b36345e735f54e89': 1, 'thm-600-sld-sage-k': 1, '400qnsh slpl': 1, '5tl6lace-whl-st': 1, 'mo300flsh slco': 1, '790067': 1, 'queen 90*90': 1, '67345': 1, 'shark': 1, 'touched by nature': 1, '10166778_berrybranch': 1, '94 x 112': 1, '70 cotton': 1, 'classic cottage traditional stripes modern': 1, 'striped ticking': 1, 'navy and light blue': 1, 'ff58af5dff06490a81d9af469753c5e4': 1, 'micsstw406wpelp': 1, '5.02125305e+012': 1, 'king 4 piece sheet set': 1, '3550051': 1, 'floral stripe with pink roses': 1, '10400pse-wht-fl': 1, 'cream / grays': 1, 'pckgra': 1, 'pink rose buds': 1, 'homeandgardendeals': 1, 'xk8vhnaprn': 1, 'cream / black': 1, '11000pse-iva-fl': 1, 'godzilla': 1, 'callcbps1ssw-$p': 1, 'twin xl/twin': 1, 'ma766if': 1, 'ducdkplhlin': 1, 'bristol associates ltd': 1, 'bluedotsky bedding': 1, '504': 1, 'all purpose': 1, 'black-red': 1, 'ly288-dark green-queen': 1, '110006df-wht-fl': 1, '1mf2pasg-ddn-ck': 1, '3m': 1, 'tarolo': 1, 'sd-1': 1, 'infantano': 1, 'reflections': 1, 'rolux linen': 1, 'b013f3k4q8': 1, 'sure guard': 1, '2-shelf': 1, 'rfiver': 1, 'tf2001': 1, 'fifth home avenue': 1, '00703': 1, 'belk&#39;s legacy home collection': 1, '1100m14e-wht-qn': 1, 'white/muti': 1, 'rpss4-001-fpk': 1, 'micsstx': 1, 'ing': 1, '62830': 1, 'wild west theme': 1, 'cowboys horses': 1, 'comin18ju094742': 1, '98 x 108 queen': 1, 'dh829375154305': 1, 'artisan': 1, 'ctl-sh-tw-dgso-01_3': 1, 'x31012': 1, 'os shs cho kg': 1, 'get it on sheets': 1, 'mb992b': 1, 'mf1500qnsh bawh': 1, 'peach cream': 1, 'white with blue and yellow': 1, 'solid white with bands': 1, 'ralphlauren': 1, 'dh8291986332540': 1, 'refetone': 1, 'brushed cotton': 1, 'white blue teal': 1, 'lumberjack flannel maternity': 1, 'ultra white': 1, 'ch6783sdkg': 1, 'modavari': 1, '3-jmfs-281': 1, '1100m14e-ivy-tn': 1, 'ez-2016-queen-single piece': 1, '11800cve-plt-kg': 1, '6501945166jt': 1, 'twin sheetb': 1, 'circlets': 1, 'uh12-0203': 1, 'solid w/stripe sateen cuff': 1, 'sage solid': 1, 'umesh enterprises': 1, 'um-pi-a-117': 1, '400cksh slsg': 1, 'paloma': 1, 'ub0650u82qf': 1, 'pumice stone': 1, 'sears harmony house': 1, 'violette8': 1, 'farmhouse floral': 1, 'white w grey border': 1, 'elegant white': 1, 'fs-nf-mt-06': 1, 'mf1500twsh slor': 1, 'blueish gray': 1, 'embroidered edge': 1, 'dh829375154565': 1, 'blue & ivory': 1, '38ebjqcf-lrw-qn': 1, 'dragontales': 1, '41% polyester 59% cotton': 1, '2dgjh310': 1, 'checkered blue': 1, 'brown  tan': 1, 'sears roebuck and company': 1, '902346a': 1, 'priva': 1, 'pbbcb/hhc': 1, 'sbk': 1, 'white with blue seashell print': 1, 'seashells': 1, 't620ck-pl-ivr': 1, 'densitycomfort': 1, 'dcwb3648-5-grypnkmdc': 1, 'blue tint (grey)': 1, 'thm-300-sld-white-k': 1, '1000 count': 1, 'jc sales': 1, 'zt01-gs': 1, 'exotic ethnic': 1, 'duvet & fitted sheet': 1, 'army green': 1, 'mn001 green-q': 1, 'candy corn': 1, 'double pink': 1, 'sweet jojo designs chenille bo': 1, 'farfalle': 1, 'medusa': 1, 'fog by london fog': 1, 'moroccan blue': 1, 'bsk250sdpb': 1, 'christy/sams': 1, 'bowties': 1, 'sheet flat top': 1, '3420247': 1, 'black-beige': 1, 'estate sateen': 1, '22415044288': 1, 'comin16ju005217': 1, 'not to brag but we are really cute together funny': 1, 'sandlewood': 1, 'qh0504': 1, 'ytgpfxh6cb': 1, 'perquot': 1, 'qs3882-us': 1, 'india block print': 1, 'bluff point ticking': 1, '2sjt228qnnb': 1, 'high rise': 1, '43195-5670': 1, '3090679': 1, '1mf2pasg-ddn-fl': 1, 'blue/yellow floral blue ck. border': 1, 'bes20es790': 1, 'aqua teal turquoise': 1, 'pc q1p01qs': 1, 'heavy weight': 1, 'allegro silver': 1, 'boudior 12 x 16': 1, 'full/queen 84\"x96\"': 1, 'multi-brown/maroon': 1, 'traditional dancer': 1, 'mf3000flsh 5lgrgr': 1, 'nh15108': 1, 'ducsaololin': 1, 'luxury600-pillw-protector': 1, '790127': 1, 'shtapeur': 1, 'green/yellow/orange': 1, '1mflaceg-lin-tn': 1, '1mflacee-cbs-kg': 1, '6-800-kg-gry': 1, 'one fitted sheet': 1, 'qqwh1011': 1, 'vintage florals': 1, 'l06': 1, '943019': 1, '11000ptg-ivy-kg': 1, 'black dots': 1, '225 x 240 cm': 1, '2400600': 1, 'bed & bath': 1, 'fuschia': 1, 'pink and mint': 1, 'girl flower rose maternity': 1, 'plcs-std-w31530': 1, 'sh5490t8': 1, 'style2': 1, 'leadtimes': 1, 'l026t2': 1, 'baby/alphabet/child': 1, 'rg-il1700sht-k-gld': 1, 'april showers': 1, 'white and blue paisley': 1, '2172': 1, 'hy-hhs095-bei-ck': 1, '1100m14e-pur-tn': 1, 'usa': 1, 'mansion house': 1, 'jay franco & sons inc': 1, 'white/gray or navy/azure': 1, 'cotton 400 thread count': 1, 'maternity gray navy aztec mod': 1, 'twin flat flannel sheet': 1, 'bcotrksht39': 1, 'majestic elegance': 1, '1100m14e-nvy-kg': 1, 'essential medical supply inc': 1, 'nexis sundry': 1, 'nsegypt4pc1000-24': 1, '3420227': 1, '3rw-6pack-queen-fitted-white': 1, 'hilfiger logo': 1, '3vltbtqe-bur-kg': 1, 'blue color block side zippered': 1, 'spring floral': 1, 'msh-1800': 1, 'canvas (tan)': 1, 'real blue': 1, 'qs1988-bib-us': 1, '3370941': 1, 'nvnm8emwmw': 1, 'cr600twsh sltl': 1, 'b0193yrj2k': 1, 'white-maroon': 1, 'solid/polka dot': 1, 'canoe creek': 1, 'canoe creek fish lanterns nets': 1, 'sg_b071p266q9_us': 1, 'homeideas d01v184b': 1, '40 x 16': 1, '266068': 1, '734465': 1, 'colorful mart': 1, '171022301901': 1, '343502': 1, 'bisque': 1, 'superman': 1, '110654': 1, 'foxcraft garza': 1, '10800nog-gry-fl': 1, 'twin-xxl': 1, '2 standard pillowcases 21\" x 31\"': 1, 'inca gold': 1, '138485': 1, 'stripe & floral': 1, 'flat sheet and comforter': 1, 'blue/white/red': 1, 'deco white': 1, 'coper-40tc-txl0-mint': 1, 'multi bright colors': 1, 'puppy dogs/pets/animals': 1, 'pdk worldwide enterprises': 1, '55%cotton 45%polyester': 1, 'addy4073': 1, '\"bright\"green- \"grass or apple': 1, '402.964.91': 1, 'traditional to modern depending how styled': 1, 'pillowcase single 26\" square- two': 1, 'flfledss': 1, '1100m14e-chr-ck': 1, 'eden': 1, 'firstkitchen': 1, '60 cotton': 1, 'royal comfort': 1, 'mypillow': 1, '744803': 1, 'huntington paisley': 1, 'blue solid': 1, 'a46498': 1, 'no boundaries': 1, 'j c sanders': 1, '300sksh slbi': 1, '700 thread count': 1, 'cr600kgsh sltl': 1, '300cksh stnb': 1, 'duclitdhdanp': 1, 'linen craft': 1, 'scattered stars': 1, 'aladdin': 1, 'tracy': 1, 'hilton': 1, 'visconti': 1, '7539657631': 1, '3190233': 1, 'fnl-sss-tw-cr': 1, 'sh5472t8': 1, '1100m14e-gry-fl': 1, '1 flat / 1 fitted': 1, '1mflaceg-wlr-kg': 1, 'bysure bs001a': 1, '666973b59f3c458d857bccbdf9327213': 1, 'kje global': 1, 'len linum': 1, 'comforter and sheet set': 1, '3520787': 1, 'mccarthy international': 1, 'rug': 1, '300': 1, 'rpss4-001-tpk': 1, 'black/red/gray': 1, 'inc/international concepts': 1, 'soft green': 1, 'sunnyrain3-piece001': 1, '11813': 1, '300kgsh slgl': 1, 'skiing santa': 1, 'rpss4-001-tgn': 1, '125 x 180 cm': 1, 'scattered planes': 1, 'spc-white-standard': 1, 'qs4246-us': 1, 'comin18ju032871': 1, 'dh829375143774': 1, 'king (also for cal king bed)': 1, '833640': 1, 'pillowcases 21 x 43 inches': 1, '180740-34': 1, '629841': 1, '11000lfe-whs-qn': 1, 'full flat  sheets extra long': 1, 'hpotter': 1, 'queen (6-pc)': 1, 'any- this is pillowcase only': 1, '13867': 1, 'mod-  modern': 1, 'mod daisy floral- flower power': 1, 'pillowcase single standard queen cases': 1, 'wendy bellissimo': 1, 'paris theme': 1, 'ab-pc-i': 1, 'gnome': 1, 'rajan linen': 1, 'picture': 1, 'white bulldogs': 1, '0e3864958bfb4356bbb9abdff90d726f': 1, 'sun': 1, 'portico': 1, '63bosjessqn': 1, '15218beddkngopl': 1, 'salt': 1, '200 thread count': 1, '1100m14e-nvy-ck': 1, 'embassy collection': 1, 'blue puddle': 1, 'h51500214121': 1, 'holiday celebrating dairy cows!': 1, '2980437': 1, 'gray/cream': 1, 'au-1kil-fbsm-ca': 1, 'shiitake brown': 1, '1 boudoir': 1, 'basil': 1, 'self-stripe (same color)': 1, 'rainy day': 1, 'violet purple': 1, 'damask leaf': 1, 'ivory body': 1, '10600lce-ssc-fl': 1, 'monster high': 1, '650kgsh slpl': 1, 'hotel & style': 1, 'white/blue striped': 1, '5.0212530709e+012': 1, '1linctng-nrl-qn': 1, 'she & she': 1, 'am18bstq-6t': 1, '601581': 1, '2316387': 1, 'aqua pearl': 1, '1mflaceg-sea-kg': 1, 'pink florals': 1, 'tea roses': 1, '3qlt5stg-bly-kg': 1, 'camel printed': 1, 'essence of bamboo': 1, 's39540': 1, 'nfbec-8004pss-20-q-lblu': 1, 'black -white': 1, 'material tag has been removed.': 1, 'gray / white / black': 1, 'ducelir2rhu': 1, '3040484': 1, '1mflaceg-wbs-fl': 1, 'ma766i0': 1, 'folkulture': 1, 'fmt03': 1, 'new domaine': 1, 'dh829375154633': 1, 'cominhkg090655': 1, 'arley': 1, 'grodan': 1, 'a108003-le-f-bu': 1, 'qs3380-us': 1, 'pw-2-532': 1, 'roller rabbit': 1, 'christmas trees in red trucks': 1, 'seamour': 1, '43256-12712': 1, 'dh742567899696': 1, 'gray/white plaid': 1, 'marlin mariners catch': 1, 'h210242': 1, 'woodland animal forest baby ma': 1, 'jose farmer bedding': 1, 'plcs-std-w30710': 1, 'fitted sheet + shams': 1, 'white / lavender / pink': 1, 'vnw22fl514': 1, 'paisley blues': 1, '11200sdf-slt-qn': 1, '07175600011brt': 1, 'mo300qnsh slnb': 1, 'graphite (damask stripe': 1, 'ann gish': 1, 'band set': 1, 'fitted sheet & pillowcase': 1, 'mixed as shown': 1, '19006': 1, 'pj2shesfqn': 1, 'orange/pink': 1, '622768': 1, '39 x 75 in': 1, 'white/ grey stripes': 1, 'tap sheet': 1, 'sweet jojo designs owl pink bo': 1, '1mflacee-yws-tn': 1, 'garfield cat cartoon': 1, '1a38223': 1, '60% polyester--40% bamboo from rayon': 1, 'whkgshsl1500ct': 1, '110006dm-wbl-fl': 1, '855956': 1, '110006dm-bbl-kg': 1, 'choose please': 1, 'monroe': 1, 'homac': 1, 'superior home': 1, 'thm-800-sld-blue-k': 1, '577c2774a6184306a77756f642ba6cda': 1, '10400pse-wht-qn': 1, '149002': 1, 'easycomfort': 1, '801816': 1, 'red and gold': 1, 'biltmore hotel': 1, 'bolster pillow cover': 1, 'golden crown': 1, 'mjking': 1, 'petticoat  floral': 1, 'bluemoon homes': 1, 'bluemoon03-003': 1, '400xlsh stmo': 1, 'raaj-1443': 1, 'white puple green': 1, 'lussona': 1, 'exclusive0208-002': 1, '680 thread count': 1, 'white & ocean blue': 1, 'butterfly flower': 1, 'sunham fine linens': 1, '11000lfe-whs-ck': 1, '3268518': 1, 'cr600kgsh slgr': 1, 'grey liliac': 1, '60% cotton/40% poly': 1, '180738-31': 1, 'rangsthali': 1, 'bula': 1, '1234m': 1, '888804036322': 1, 'marshmallow (cream)': 1, '300cksh sltp': 1, 'comin18ju046271': 1, 'burgundy white': 1, 'plaid stripe': 1, '110006dm-ttp-kg': 1, '1mflacee-ybr-kg': 1, 'flint- gray': 1, 'wamsutta- bed bath & beyond': 1, '100% combed supima cotton': 1, 'sateen couture': 1, '20x30 inch': 1, 'be awesome': 1, 'p-117sba': 1, 'comfortlife': 1, 'highland navy': 1, 'ms16-002-134-22': 1, 'ch6783nbfu': 1, 'kkpeccps4sss': 1, 'austin sports': 1, 'mf-642872312005': 1, 'heritage lace': 1, 'tb-pc3': 1, 'sh36841219kf': 1, 'sweet jojo designs kaylee body': 1, 'luxbamboo-6pc-atj-denium-fu-fl': 1, 'plum purple white': 1, 'double fitted sheets': 1, 'brite ideas living': 1, 'plcs-std-w31901': 1, 'co022102': 1, '3d9691736d1b4994b06a3455d7e0f243': 1, 'extra dry': 1, '601004': 1, 'multi colors on orange': 1, 'witches': 1, 'ctl-sh-fl-ivso-01_16': 1, 'dh829375154541': 1, 'glam gold': 1, '600tc-cotton-gold-full': 1, 'os shs plm tn': 1, 'wintervine blue gray': 1, 'wintervine': 1, '5crtnscg-oat-st': 1, 'multi on black': 1, \"back to school/teacher's gift\": 1, 'school rocks!': 1, 'stag buck maternity country': 1, 'os shs bge qn': 1, 'multi yellow': 1, 'columbia sportswear': 1, 'z e kendall productions': 1, 'calking': 1, 'flat sheet+fitted sheet+pillow': 1, 'harlow': 1, 'co022136': 1, 'd-1212twss900': 1, 'payvraufxw': 1, '108072-ft-qwh': 1, 'favorite t': 1, 'f3facc2057ba455d8ac332e812e39868': 1, '8903062001560': 1, '2824831': 1, 'b00db51fmi': 1, 'cr600sksh sltl': 1, 'wavy embroidered lines': 1, 'de1cea7e55c44f489757d166fbfdd7c5': 1, '5vltcste-blu-st': 1, 'sgi-rv-c10-chld-005': 1, 'sru0146': 1, 's.l signature collection': 1, 'ff1b66a32e3641c9ab51f58c46a40b5b': 1, 'pink  and grey': 1, 'gray maternity dream catcher': 1, 'dwell': 1, 'ivory/platinum': 1, 'burnt orange - white': 1, 'linked octagon shapes': 1, 'cominhkr007353': 1, '11000pse-slc-fl': 1, '39\"80\"x7.5\"': 1, 'light yellow': 1, 'red white gingham check': 1, 'red white gingham': 1, 'love....more': 1, 'tan & pink': 1, '41734': 1, '10600lce-dyw-qn': 1, 'queen 4 pack 20 x 30': 1, 'e1e-905538000172360': 1, 'floral and striped': 1, 'multi pastel colors': 1, 'easter eggs with pink ribbons': 1, 'gray * king': 1, '2018092603': 1, '3vltbtqe-sil-qn': 1, '170314-sheet-floral04': 1, '1-100': 1, 'road id': 1, 'racebib-1-100': 1, 'jc penney home collection': 1, 'hem': 1, 'white with beige stripe': 1, 'target threshold': 1, 'mf1500cksh sllb': 1, '8265': 1, '2dgjh174': 1, 'city skyline': 1, 'comin18ju085743': 1, 'ela001st2-q': 1, 'minnesota wild': 1, 'luxe boutique': 1, 'ig-lb3pcsht-aqu-t': 1, '888804036254': 1, '097-02-3690': 1, 'westpoint home izod': 1, '1mflaceg-sea-qn': 1, 'white with halloween dog print': 1, 'halloween dogs': 1, 'halloween dogs on white': 1, 'charmeuse': 1, 'royal collection 1900': 1, 'fbt604-09': 1, 'ns1500kwht': 1, 'front 100% cotton / back200% cotton': 1, 'hdmfs-459': 1, 'onetouch': 1, '92915': 1, 'light blue/dusk blue': 1, 'vine printed taupe': 1, 'cotton-printed-023': 1, 'sea horse': 1, '1828cm': 1, '4pcs black': 1, 'huaminxiangyue': 1, 'comin18ju069695': 1, 'white ground w/pink stripes': 1, 'no - iron muslin': 1, 'penney': 1, 'watercolor multi': 1, 'c1217fuw1b10': 1, '230 x 285 cm': 1, 'dh829375150420': 1, 'roses striped': 1, '3k10qflblm': 1, 'haband': 1, 'nh17361': 1, 'rudolph and the island of misfit toys': 1, 'franklin': 1, 'stars on grey': 1, 'blsc03-q': 1, 'king or california king': 1, 'beige natural': 1, 'floral leaves': 1, 'l07': 1, 'jill morgan': 1, '20\" x 54\"': 1, \"semouna's\": 1, 'skating party blue plaid': 1, 'harbor view': 1, 'twin / full / queen': 1, 'anysize': 1, 'poly super soft': 1, '500eced6psskimg': 1, 'all colors available': 1, 'devi bedding': 1})\n"
     ]
    }
   ],
   "source": [
    "import re\n",
    "validation_rows = df.loc[df['index'].isin(valid.index)]\n",
    "validation_rows = validation_rows.loc[validation_rows['category'] == 1]\n",
    "c1_rows = df.loc[df['category'] == 1]\n",
    "c3_rows = df.loc[df['category'] == 3]\n",
    "c4_rows = df.loc[df['category'] == 4]\n",
    "keep_tags = ['brand', 'size type', \"bottoms size (women's)\", 'material', 'inseam', 'color', 'rise', 'style', 'silhouette', 'country/region of manufacture']\n",
    "keep_tags = ['brand', 'material', 'type', 'pattern', 'model', 'country/region of origin', 'mpn', 'country/region of manufacture', 'handle material', 'number of settings','color']\n",
    "keep_tags =  ['brand', 'color', 'material', 'type', 'mpn', 'pattern', 'bed size', 'size', 'country/region of manufacture', 'style']\n",
    "# df = category5\n",
    "def register_attributes(attribute, all_attributes):\n",
    "    attribute = attribute[1:-1].lower() # attribute = re.sub(r'[()]','', attribute)\n",
    "    attribute = re.split(r',(?![^(]*\\))', attribute)\n",
    "    attribute = [a.split(':') for a in attribute]\n",
    "    for i, a in enumerate(attribute):\n",
    "        attribute[i] = [s.strip() for s in a]\n",
    "        if attribute[i][0] in keep_tags:\n",
    "            all_attributes.add(attribute[i][0])\n",
    "    #print(f'atttribute is: {attribute}')\n",
    "    mapping = {}\n",
    "    #for i in range(len(attribute) - 1):\n",
    "    #    if i == len(attribute) - 2:\n",
    "    #        mapping[attribute[i][-1]] = attribute[i + 1][:]\n",
    "    #    else:\n",
    "    #        mapping[attribute[i][-1]] = attribute[i + 1][:-1]\n",
    "    return(attribute)\n",
    "\n",
    "def map_attributes(attribute, num_attributes, index_to_attr):\n",
    "    attribute = attribute[1:-1].lower() # attribute = re.sub(r'[()]','', attribute)\n",
    "    attribute = re.split(r',(?![^(]*\\))', attribute)\n",
    "    attribute = [a.split(':') for a in attribute]\n",
    "    all_attributes_for_row = [None] * num_attributes\n",
    "    for i, a in enumerate(attribute):\n",
    "        attribute[i] = [s.strip() for s in a]\n",
    "        #print(f'index: {attr_to_index[attribute[i][0]]}')\n",
    "        if len(attribute[i]) > 1 and attribute[i][0] in keep_tags:\n",
    "            all_attributes_for_row[attr_to_index[attribute[i][0]]] = attribute[i][1]\n",
    "    mapping = {}\n",
    "    #for i in range(len(attribute) - 1):\n",
    "    #    if i == len(attribute) - 2:\n",
    "    #        mapping[attribute[i][-1]] = attribute[i + 1][:]\n",
    "    #    else:\n",
    "    #        mapping[attribute[i][-1]] = attribute[i + 1][:-1]\n",
    "    return all_attributes_for_row\n",
    "m = 2000\n",
    "all_attributes = set()\n",
    "all_maps = []\n",
    "for index,row in c4_rows[0:].iterrows():\n",
    "    register_attributes(row['Tags'], all_attributes)\n",
    "\n",
    "all_attributes = list(all_attributes)\n",
    "attr_to_index = {all_attributes[i]: i for i in range(len(all_attributes))}\n",
    "#print(attr_to_index)\n",
    "#print(f'numAttributes: {len(all_attributes)}')\n",
    "\n",
    "for index,row in c4_rows[0:].iterrows():\n",
    "    all_maps.append(map_attributes(row['Tags'], len(all_attributes), attr_to_index))\n",
    "possible_vals = set()\n",
    "from collections import Counter\n",
    "c = Counter()\n",
    "for v in all_maps:\n",
    "    possible_vals.update(v)\n",
    "    c.update(v)\n",
    "print(len(possible_vals))\n",
    "print(c)"
   ]
  },
  {
   "cell_type": "code",
   "execution_count": 13,
   "metadata": {
    "tags": []
   },
   "outputs": [
    {
     "output_type": "stream",
     "name": "stdout",
     "text": [
      "       bed size  size                 color                   brand  \\\n0          None  None                  None             home source   \n1          crib  None                  gray       pottery barn kids   \n2          None  None                  None       organics and more   \n3         queen  None                  blue        hotel collection   \n4      any size  None        birch grey fan  better homes & gardens   \n...         ...   ...                   ...                     ...   \n42861      None  full              burgundy      italian collection   \n42862      None  None            royal blue               dreamhome   \n42863      None  None            gray/white          betsey johnson   \n42864      None  None                 green          tribeca living   \n42865      None  None  all colors available            devi bedding   \n\n                   mpn         material   style country/region of manufacture  \\\n0       does not apply             None    None                          None   \n1                 None             None    None                          None   \n2                 None             None    None                          None   \n3                 None      100% cotton    None                          None   \n4                 None      100% cotton    None                         india   \n...                ...              ...     ...                           ...   \n42861   does not apply             None    None                          None   \n42862   not applicable             None    None                          None   \n42863             None        polyester    None                          None   \n42864  500eced6psskimg             None    None                          None   \n42865             None  egyptian cotton  modern                         india   \n\n           pattern           type  \n0             None           None  \n1            zebra  fitted sheets  \n2             None           None  \n3      embroidered    flat sheets  \n4        geometric    pillowcases  \n...            ...            ...  \n42861         None           None  \n42862         None           None  \n42863         dots     sheet sets  \n42864         None           None  \n42865        solid           None  \n\n[42866 rows x 10 columns]\n"
     ]
    }
   ],
   "source": [
    "#dataframe with attribute values\n",
    "#print(type(all_maps))\n",
    "categories = pd.DataFrame(all_maps)\n",
    "categories.columns=all_attributes\n",
    "print(categories)"
   ]
  },
  {
   "cell_type": "code",
   "execution_count": 14,
   "metadata": {
    "collapsed": true
   },
   "outputs": [
    {
     "output_type": "stream",
     "name": "stdout",
     "text": [
      "  (0, 241)\t1.0\n  (0, 836)\t1.0\n  (0, 3080)\t1.0\n  (0, 6459)\t1.0\n  (0, 13611)\t1.0\n  (0, 16845)\t1.0\n  (0, 17620)\t1.0\n  (0, 18041)\t1.0\n  (0, 19482)\t1.0\n  (0, 20999)\t1.0\n  (1, 138)\t1.0\n  (1, 836)\t1.0\n  (1, 2307)\t1.0\n  (1, 7779)\t1.0\n  (1, 14719)\t1.0\n  (1, 16845)\t1.0\n  (1, 17620)\t1.0\n  (1, 18041)\t1.0\n  (1, 20513)\t1.0\n  (1, 20814)\t1.0\n  (2, 241)\t1.0\n  (2, 836)\t1.0\n  (2, 3080)\t1.0\n  (2, 7573)\t1.0\n  (2, 14719)\t1.0\n  :\t:\n  (42863, 16907)\t1.0\n  (42863, 17620)\t1.0\n  (42863, 18041)\t1.0\n  (42863, 18681)\t1.0\n  (42863, 21140)\t1.0\n  (42864, 241)\t1.0\n  (42864, 836)\t1.0\n  (42864, 2398)\t1.0\n  (42864, 8701)\t1.0\n  (42864, 11509)\t1.0\n  (42864, 16845)\t1.0\n  (42864, 17620)\t1.0\n  (42864, 18041)\t1.0\n  (42864, 19482)\t1.0\n  (42864, 20999)\t1.0\n  (42865, 241)\t1.0\n  (42865, 836)\t1.0\n  (42865, 1114)\t1.0\n  (42865, 5816)\t1.0\n  (42865, 14719)\t1.0\n  (42865, 16730)\t1.0\n  (42865, 17595)\t1.0\n  (42865, 18026)\t1.0\n  (42865, 20013)\t1.0\n  (42865, 20999)\t1.0\n<class 'scipy.sparse.csr.csr_matrix'>\n"
     ]
    }
   ],
   "source": [
    "from sklearn.preprocessing import OneHotEncoder\n",
    "oh = OneHotEncoder()\n",
    "x = oh.fit_transform(categories.astype(str))\n",
    "print(x)\n",
    "print(type(x))"
   ]
  },
  {
   "cell_type": "code",
   "execution_count": 17,
   "metadata": {
    "collapsed": true
   },
   "outputs": [
    {
     "output_type": "stream",
     "name": "stdout",
     "text": [
      "{'black': 260, 'white': 3197, 'red': 2549, 'blue': 342, 'green': 1339, 'yellow': 3677, 'brown': 571, 'purple': 2474, 'pink': 2288, 'gray': 1248, 'grey': 1410}\n"
     ]
    }
   ],
   "source": [
    "colorind=all_attributes.index('color')\n",
    "temp=list(oh.categories_[colorind])#[1339]\n",
    "simple_colors = {'black':0,'white':0,'red':0,'blue':0,'green':0,'yellow':0,'brown':0,'purple':0,'pink':0,'gray':0,'grey':0}\n",
    "\n",
    "for key in simple_colors.keys():\n",
    "    try:\n",
    "        simple_colors[key]=temp.index(key)\n",
    "    except:\n",
    "        print(key)\n",
    "print(simple_colors)\n",
    "#need to identify the correct column for colors from categories data frame (to properly map)\n",
    "#need to go through the CNN csv and fill in info in one hot encoding"
   ]
  },
  {
   "cell_type": "code",
   "execution_count": null,
   "metadata": {},
   "outputs": [],
   "source": [
    "for filenum in range(1,69):\n",
    "    cnn=pd.read_table('predictions'+str(filenum)+'.csv',header=None)\n",
    "    cnn.columns=['index','colorarr']\n",
    "    si = len(cnn)\n",
    "    for i in range(cnn):\n",
    "        ind=cnn.iloc[i].loc['index']\n",
    "        for y in cnn.iloc[i].loc['colorarr']:\n",
    "            x.insert(ind,simple_color[y[0]],y[1])\n",
    "            #insert y[1] at onehotencoder matrix (ind,simple_color[y[0]])\n",
    "    "
   ]
  },
  {
   "cell_type": "code",
   "execution_count": null,
   "metadata": {},
   "outputs": [],
   "source": [
    "print(c4_rows.head())"
   ]
  },
  {
   "cell_type": "code",
   "execution_count": null,
   "metadata": {},
   "outputs": [],
   "source": [
    "from sklearn.cluster import KMeans\n",
    "kmeans = KMeans(n_clusters=200, random_state=0,verbose=True, n_init=1, max_iter = 15).fit(x)"
   ]
  },
  {
   "cell_type": "code",
   "execution_count": null,
   "metadata": {
    "scrolled": true
   },
   "outputs": [],
   "source": [
    "\"\"\"\n",
    "Analysis of K-Means output\n",
    "\"\"\"\n",
    "count = {}\n",
    "preds = []\n",
    "actuals = []\n",
    "for i, label in enumerate(kmeans.labels_):\n",
    "    if label not in count:\n",
    "        count[label] = 0\n",
    "    count[label] += 1\n",
    "#     print(f'row {i}\\n: {df.iloc[i]}')\n",
    "    ID = c4_rows.iloc[i]['index']\n",
    "    if ID in valid.index:\n",
    "        preds.append(label)\n",
    "        actual = valid.loc[ID]['Group']\n",
    "        actuals.append(actual)\n",
    "#     print(f'ID: {ID}, pred: {label}, actual: {actual}')\n",
    "print(count)\n",
    "print(kmeans.inertia_)\n",
    "print(len(preds))\n",
    "\n",
    "evaluate(actuals, preds)"
   ]
  },
  {
   "cell_type": "code",
   "execution_count": null,
   "metadata": {},
   "outputs": [],
   "source": [
    "from sklearn.cluster import AgglomerativeClustering\n",
    "\n",
    "def cluster(data):\n",
    "    clustering = AgglomerativeClustering(compute_distances=True,compute_full_tree = True,distance_threshold = 0.1,n_clusters=None).fit(data)\n",
    "    print(clustering)\n",
    "#     print(\"LABELS\")\n",
    "#     print(clustering.labels_)\n",
    "#     print(len(clustering.labels_))\n",
    "#     print(len(set(clustering.labels_)))\n",
    "#     print(\"DISTAnCES\")\n",
    "#     print(clustering.distances_)\n",
    "#     print(\"num connected components\")\n",
    "#     print(clustering.n_connected_components_)\n",
    "    # make this better\n",
    "    # make this work on the entire dataset\n",
    "    # fix nonetypes\n",
    "    # don't punish missing attributes, but punish conflicts. how do we encode this?\n",
    "\n",
    "    return clustering"
   ]
  },
  {
   "cell_type": "code",
   "execution_count": null,
   "metadata": {
    "scrolled": false
   },
   "outputs": [],
   "source": [
    "x = x.toarray() # only run this once"
   ]
  },
  {
   "cell_type": "code",
   "execution_count": null,
   "metadata": {},
   "outputs": [],
   "source": [
    "# x *= 10\n",
    "x"
   ]
  },
  {
   "cell_type": "code",
   "execution_count": null,
   "metadata": {
    "scrolled": false
   },
   "outputs": [],
   "source": [
    "full_clustering = [0] * len(x)\n",
    "count_so_far = 0\n",
    "for label in count:\n",
    "    indices = [i for i in range(x.shape[0]) if kmeans.labels_[i] == label]\n",
    "    data = [x[i] for i in indices]\n",
    "    print(f'now clustering group {label} which has {len(data)} items')\n",
    "    c = cluster(data)\n",
    "    for i, label in enumerate(c.labels_):\n",
    "        full_clustering[indices[i]] = label + count_so_far\n",
    "#     print(c.labels_)\n",
    "    count_so_far += len(data)"
   ]
  },
  {
   "cell_type": "code",
   "execution_count": null,
   "metadata": {},
   "outputs": [],
   "source": [
    "pd.set_option('display.max_rows', None)\n",
    "pd.set_option('display.max_columns', None)\n",
    "pd.set_option('display.width', None)\n",
    "pd.set_option('display.max_colwidth', -1)"
   ]
  },
  {
   "cell_type": "code",
   "execution_count": null,
   "metadata": {
    "scrolled": true
   },
   "outputs": [],
   "source": [
    "groups = {}\n",
    "for i, label in enumerate(full_clustering):\n",
    "    if label not in groups:\n",
    "        groups[label] = []\n",
    "    groups[label].append(i)\n",
    "groups = {label: groups[label] for label in groups if len(groups[label]) > 1}\n",
    "print(groups)\n",
    "for label in groups:\n",
    "    print(f'GROUP: {label}')\n",
    "    for item in groups[label]:\n",
    "        print(validation_rows['Tags'].iloc[[item]].to_string())\n",
    "    print('-----------------')"
   ]
  },
  {
   "cell_type": "code",
   "execution_count": null,
   "metadata": {},
   "outputs": [],
   "source": [
    "print(len(groups))"
   ]
  },
  {
   "cell_type": "code",
   "execution_count": null,
   "metadata": {
    "scrolled": true
   },
   "outputs": [],
   "source": [
    "\"\"\"\n",
    "Evaluate clustering after it has gone through k-means and agglomorative clustering.\n",
    "\"\"\"\n",
    "p = full_clustering\n",
    "print(full_clustering)\n",
    "actuals = []\n",
    "for i in range(len(p)):\n",
    "    ID = validation_rows.iloc[i]['index']\n",
    "    if ID in valid.index:\n",
    "        actual = valid.loc[ID]['Group']\n",
    "        actuals.append(actual)\n",
    "a = actuals # valid['Group'].tolist()\n",
    "print(len(set(p)))\n",
    "print(len(p))\n",
    "evaluate(a, p)"
   ]
  },
  {
   "cell_type": "code",
   "execution_count": null,
   "metadata": {},
   "outputs": [],
   "source": [
    "\"\"\"\n",
    "Functions used to display the tags in a nicer manner below.\n",
    "\"\"\"\n",
    "def get_mapping(attribute):\n",
    "    attribute = re.sub(r'[()]','', attribute)\n",
    "#     attribute = re.split(r',', attribute)\n",
    "#     attribute = [a.split(':') for a in attribute]\n",
    "    attribute = re.split(r':+', attribute)\n",
    "    attribute = [a.split(',') for a in attribute]\n",
    "    '''\n",
    "    for i, a in enumerate(attribute):\n",
    "        attribute[i] = [s.strip() for s in a]\n",
    "        all_attributes.add(attribute[i][0])\n",
    "    #print(f'atttribute is: {attribute}')\n",
    "    '''\n",
    "    mapping = {}\n",
    "    for i in range(len(attribute) - 1):\n",
    "        if i == len(attribute) - 2:\n",
    "            mapping[attribute[i][-1]] = attribute[i + 1][:]\n",
    "        else:\n",
    "            mapping[attribute[i][-1]] = attribute[i + 1][:-1]\n",
    "    return mapping\n",
    "\n",
    "def mapping_to_string(mapping):\n",
    "    keys = list(mapping.keys())\n",
    "    keys.sort()\n",
    "    return ';'.join([f'{key}:{list(sorted(mapping[key]))}' for key in keys])"
   ]
  },
  {
   "cell_type": "code",
   "execution_count": null,
   "metadata": {
    "scrolled": false
   },
   "outputs": [],
   "source": [
    "\"\"\"\n",
    "Show the items where the two clusterings ,p(redict) and a(ctual), differ.\n",
    "\"\"\"\n",
    "for i in range(len(a)):\n",
    "    for j in range(len(p)):\n",
    "        if i != j:\n",
    "            if a[i] == a[j] and p[i] != p[j]:\n",
    "                print(\"These two items should be in the same group:\")\n",
    "            elif a[i] != a[j] and p[i] == p[j]:\n",
    "                continue\n",
    "                print(\"These two items should not be in the same group\")\n",
    "            else:\n",
    "                continue\n",
    "            print(f\"tags: {mapping_to_string(get_mapping(validation_rows['Tags'].iloc[[i]].to_string(index=False)))}\")\n",
    "            print(f\"urls: {validation_rows['primary_image_url'].iloc[[i]].to_string()}\")\n",
    "            print(f\"tags: {mapping_to_string(get_mapping(validation_rows['Tags'].iloc[[j]].to_string(index=False)))}\")\n",
    "            print(f\"urls: {validation_rows['primary_image_url'].iloc[[j]].to_string()}\")\n",
    "            print('-------------------')"
   ]
  },
  {
   "cell_type": "code",
   "execution_count": null,
   "metadata": {},
   "outputs": [],
   "source": [
    "old_clustering = full_clustering\n",
    "print(old_clustering)"
   ]
  },
  {
   "cell_type": "code",
   "execution_count": null,
   "metadata": {},
   "outputs": [],
   "source": [
    "%matplotlib qt\n",
    "import matplotlib.pyplot as plt\n",
    "from scipy.cluster.hierarchy import dendrogram\n",
    "import numpy as np\n",
    "from PIL import Image\n",
    "import requests\n",
    "from io import BytesIO\n",
    "\n",
    "def plot_dendrogram(model, **kwargs):\n",
    "    counts = np.zeros(model.children_.shape[0])\n",
    "    n_samples = len(model.labels_)\n",
    "    for i, merge in enumerate(model.children_):\n",
    "        current_count = 0\n",
    "        for child_idx in merge:\n",
    "            if child_idx < n_samples:\n",
    "                current_count += 1  # leaf node\n",
    "            else:\n",
    "                current_count += counts[child_idx - n_samples]\n",
    "        counts[i] = current_count\n",
    "\n",
    "    linkage_matrix = np.column_stack([model.children_, model.distances_,\n",
    "                                      counts]).astype(float)\n",
    "\n",
    "    #response = requests.get(url)\n",
    "    #img = Image.open(BytesIO(response.content))\n",
    "    link_labels = [df['Tags'][i] for i in clustering.labels_]\n",
    "    dendrogram(linkage_matrix, labels = link_labels)\n",
    "plot_dendrogram(clustering)\n",
    "plt.show()"
   ]
  },
  {
   "cell_type": "code",
   "execution_count": null,
   "metadata": {},
   "outputs": [],
   "source": [
    "import re\n",
    "from collections import Counter\n",
    "freq=Counter()\n",
    "attribute=[['']]*len(df)\n",
    "trialrange=5000\n",
    "for x in range(trialrange):#range(int(len(df)/10)):#len(df)\n",
    "    attribute[x]=df.iloc[x,3].lower()\n",
    "    attribute[x] = re.sub(r'[()]','', attribute[x])\n",
    "    attribute[x] = re.split(r',', attribute[x])\n",
    "    attribute[x] = [a.split(':') for a in attribute[x]]\n",
    "    freq+=Counter([i[0] for i in attribute[x]])\n",
    "    tempdict={}\n",
    "    for i in attribute[x]:\n",
    "\n",
    "            try:\n",
    "                tempdict[i[0]]=float(i[1])\n",
    "            except:\n",
    "                try:\n",
    "                    tempdict[i[0]]=i[1]\n",
    "                except:\n",
    "                    pass\n",
    "    attribute[x]=tempdict\n",
    "\n",
    "df['seg']=attribute\n",
    "#print(df['seg'])"
   ]
  },
  {
   "cell_type": "code",
   "execution_count": null,
   "metadata": {},
   "outputs": [],
   "source": [
    "Brands=[]\n",
    "Images=[]\n",
    "Colors = []\n",
    "color_images = []\n",
    "print(trialrange)\n",
    "for i in range(trialrange):\n",
    "    try:\n",
    "        #df['seg'].iloc[i]['brand']\n",
    "        #df['primary_image_url'].iloc[i]\n",
    "        #print(df['seg'].iloc[i]['brand'])\n",
    "        #print(df['primary_image_url'].iloc[i])\n",
    "        if df['seg'].iloc[i]['brand'] == 'nike' or df['seg'].iloc[i]['brand'] == 'adidas':\n",
    "            Brands.append(df['seg'].iloc[i]['brand'])\n",
    "            Images.append(df['primary_image_url'].iloc[i])\n",
    "        if df['seg'].iloc[i]['color'] == 'black' or df['seg'].iloc[i]['color'] == 'white':\n",
    "            Colors.append(df['seg'].iloc[i]['color'])\n",
    "            color_images.append(df['primary_image_url'].iloc[i])\n",
    "    except:\n",
    "        continue\n",
    "        #Brands.remove[-1]\n",
    "        #print('not possible at: ',i)"
   ]
  },
  {
   "cell_type": "code",
   "execution_count": null,
   "metadata": {},
   "outputs": [],
   "source": [
    "print(len(Brands))\n",
    "print(len(Colors))\n",
    "print(len(color_images))"
   ]
  },
  {
   "cell_type": "code",
   "execution_count": null,
   "metadata": {},
   "outputs": [],
   "source": [
    "n = 400\n",
    "from PIL import Image, ImageFile\n",
    "import requests\n",
    "from io import BytesIO\n",
    "import numpy as np\n",
    "ImageFile.LOAD_TRUNCATED_IMAGES = True\n",
    "\n",
    "'''\n",
    "url = df['primary_image_url'][4]\n",
    "response = requests.get(url)\n",
    "#img = Image.open(BytesIO(response.content))\n",
    "img = Image.open(requests.get(url, stream=True).raw)\n",
    "img.show()\n",
    "result = Image.new(img.mode, (1000, 550), (64,64,64))\n",
    "result.paste(img, (0, 0))\n",
    "result.show()\n",
    "print(np.asarray(img).shape)\n",
    "print(np.asarray(result).shape)\n",
    "'''\n",
    "image_array = []\n",
    "images = []\n",
    "max_height = 0\n",
    "max_width = 0\n",
    "i = 0\n",
    "for img in color_images[0:n]:\n",
    "    response = requests.get(img)\n",
    "    if i%200 == 0:\n",
    "        print(i)\n",
    "    i+=1\n",
    "    img = Image.open(BytesIO(response.content))\n",
    "    if np.asarray(img).shape[1] > max_width:\n",
    "        max_width = np.asarray(img).shape[1]\n",
    "    if np.asarray(img).shape[0] > max_height:\n",
    "        max_height = np.asarray(img).shape[0]\n",
    "    images.append(img)\n",
    "i=0\n",
    "for img in images:\n",
    "    if i%200 == 0:\n",
    "        print(i)\n",
    "    i+=1\n",
    "    try:\n",
    "        img = img.convert('RGB')\n",
    "        margin = Image.new(img.mode, (max_width, max_height), (64,64,64))\n",
    "    except:\n",
    "        img = img.convert('RGB')\n",
    "        margin = Image.new(img.mode,(max_width,max_height),(64,64,64))\n",
    "    margin.paste(img, (0, 0))\n",
    "    image_array.append(np.asarray(margin))"
   ]
  },
  {
   "cell_type": "code",
   "execution_count": null,
   "metadata": {},
   "outputs": [],
   "source": [
    "\n",
    "#import sys\n",
    "#print(sys.version)\n",
    "#%pip install tensorflow\n",
    "\n",
    "import tensorflow as tf\n",
    "from tensorflow.keras import datasets, layers, models\n",
    "from tensorflow.keras.layers import Dropout\n",
    "\n",
    "model = models.Sequential()\n",
    "model.add(layers.Conv2D(1, (3, 3), activation='relu', input_shape=(max_width, max_height, 3)))\n",
    "model.add(layers.MaxPooling2D((4, 4)))\n",
    "model.add(layers.Flatten())\n",
    "model.add(Dropout(rate=.8))\n",
    "#model.add(layers.Dense(4, activation='relu'))\n",
    "model.compile(optimizer='adam',\n",
    "              loss=tf.keras.losses.SparseCategoricalCrossentropy(from_logits=True),\n",
    "              metrics=['accuracy'])"
   ]
  },
  {
   "cell_type": "code",
   "execution_count": null,
   "metadata": {},
   "outputs": [],
   "source": [
    "brand_dict = {}\n",
    "num = 0\n",
    "labels = []\n",
    "for b in Colors:\n",
    "    if b not in brand_dict:\n",
    "        brand_dict[b] = num\n",
    "        num+=1\n",
    "    labels.append(brand_dict[b])\n",
    "\n",
    "m = 400\n",
    "n = round(m*.8)\n",
    "train_images = np.asarray(image_array[0:n])\n",
    "test_images = np.asarray(image_array[n:m])\n",
    "train_labels = np.asarray(labels[0:n])\n",
    "test_labels = np.asarray(labels[n:m])\n",
    "print(type(test_images[0]))"
   ]
  },
  {
   "cell_type": "code",
   "execution_count": null,
   "metadata": {},
   "outputs": [],
   "source": [
    "history = model.fit(train_images, train_labels, epochs=1, batch_size = 10,\n",
    "                    validation_data=(test_images, test_labels))"
   ]
  },
  {
   "cell_type": "code",
   "execution_count": null,
   "metadata": {},
   "outputs": [],
   "source": []
  }
 ],
 "metadata": {
  "kernelspec": {
   "name": "python3",
   "display_name": "Python 3.8.6 64-bit",
   "metadata": {
    "interpreter": {
     "hash": "aee8b7b246df8f9039afb4144a1f6fd8d2ca17a180786b69acc140d282b71a49"
    }
   }
  },
  "language_info": {
   "codemirror_mode": {
    "name": "ipython",
    "version": 3
   },
   "file_extension": ".py",
   "mimetype": "text/x-python",
   "name": "python",
   "nbconvert_exporter": "python",
   "pygments_lexer": "ipython3",
   "version": "3.8.6-final"
  }
 },
 "nbformat": 4,
 "nbformat_minor": 4
}